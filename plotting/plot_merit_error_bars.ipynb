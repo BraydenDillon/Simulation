{
 "cells": [
  {
   "cell_type": "code",
   "execution_count": 1,
   "metadata": {},
   "outputs": [],
   "source": [
    "#!/usr/bin/env python3\n",
    "\n",
    "import tables\n",
    "import numpy as np\n",
    "import pandas as pd\n",
    "import matplotlib.pyplot as plt\n"
   ]
  },
  {
   "cell_type": "code",
   "execution_count": 2,
   "metadata": {},
   "outputs": [],
   "source": [
    "#!pwd"
   ]
  },
  {
   "cell_type": "code",
   "execution_count": null,
   "metadata": {},
   "outputs": [],
   "source": []
  },
  {
   "cell_type": "markdown",
   "metadata": {},
   "source": [
    "## Data preprocessing"
   ]
  },
  {
   "cell_type": "code",
   "execution_count": 60,
   "metadata": {},
   "outputs": [],
   "source": [
    "def binned_histogram_Areakey(xdata, Eff_A, error, bins=11, quant=68, logspace=True):\n",
    "    \"\"\"\n",
    "    input: xdata and the corresponding percentage error. as np.array\n",
    "    return: return the bin centers, mean and std of in each bin.\n",
    "    bins : Number of bins. Shoud be an interger not a list. or array.\n",
    "    \"\"\"\n",
    "    if logspace:\n",
    "        bins = np.logspace(np.log10(np.min(xdata)), np.log10(np.max(xdata)), bins)\n",
    "    else:\n",
    "        bins = np.linspace(np.min(xdata), np.max(xdata), bins)\n",
    "    \n",
    "    centers = (bins[1:] + bins[:-1]) / 2.0\n",
    "    lower = centers - bins[:-1]\n",
    "    upper = bins[1:] - centers\n",
    "    \n",
    "    merit_numbers = []\n",
    "    error_bars = []\n",
    "    for lower, upper in zip(bins[:-1], bins[1:]):\n",
    "        cut = (xdata >= lower) & (xdata < upper)\n",
    "        \n",
    "        error_distribution = error[cut]\n",
    "        energy_distribution = xdata[cut]\n",
    "        effA = Eff_A[cut]\n",
    "        \n",
    "        merit_number = with_AreaKey(error_distribution, effA)\n",
    "        \n",
    "        merit_numbers.append(merit_number)\n",
    "        \n",
    "        dA = np.std(effA)\n",
    "        dS = np.std(error_distribution)\n",
    "        dfdA = np.sum(1/(2 * (4 * np.pi * (error_distribution)**2 * (effA))**(1/2)))\n",
    "        dfdS = np.sum((-1 * (effA)**(1/2))/(2 * (error_distribution)**2 * (np.pi)**(1/2)))\n",
    "        U = np.sqrt(dfdS**2 * dS**2 + dfdA**2 * dA**2)\n",
    "        error_bars.append(U)\n",
    "        #T = np.sqrt(dA**2+dS**2)\n",
    "       \n",
    "    return (\n",
    "        centers,\n",
    "        np.array(merit_numbers),\n",
    "        np.array(error_bars)\n",
    "    )"
   ]
  },
  {
   "cell_type": "code",
   "execution_count": 4,
   "metadata": {},
   "outputs": [],
   "source": [
    "def with_AreaKey(angular_error, Effective_area):\n",
    "    val = (np.sum(Effective_area/(4*np.pi*angular_error**2))**(1/2))\n",
    "    return val"
   ]
  },
  {
   "cell_type": "code",
   "execution_count": 34,
   "metadata": {},
   "outputs": [],
   "source": [
    "def get_pure_data(file):\n",
    "    f = tables.open_file(file)\n",
    "    \n",
    "    data_dict = {\n",
    "        #'event_id': file.root.event_id.cols.value[:],\n",
    "\n",
    "        #'angular_error_linefit' : np.degrees(file.root.angular_error_linefit.cols.value[:]),\n",
    "        'angular_error_mmsreco': np.degrees(f.root.angular_error_LLHFit_mmsreco.cols.value[:]),\n",
    "        #'angular_error_splines_35ns': np.degrees(file.root.angular_error_LLHFit_step1.cols.value[:]),\n",
    "        #'angular_error_splines_20ns': np.degrees(file.root.angular_error_LLHFit_step2.cols.value[:]),\n",
    "        #'angular_error_splines_10ns': np.degrees(file.root.angular_error_LLHFit_step3.cols.value[:]),\n",
    "        #'angular_error_splines_05ns': np.degrees(file.root.angular_error_LLHFit_step4.cols.value[:]),\n",
    "\n",
    "        #'logl_splines_35ns': file.root.logl_splines_35ns.cols.value[:],\n",
    "        #'logl_splines_20ns': file.root.logl_splines_20ns.cols.value[:],\n",
    "        #'logl_splines_10ns': file.root.logl_splines_10ns.cols.value[:],\n",
    "        #'logl_splines_05ns': file.root.logl_splines_05ns.cols.value[:],\n",
    "        #'logl_mmsreco': file.root.logl_mmsreco.cols.value[:],\n",
    "        #'logl_mctruth': file.root.logl_mctruth.cols.value[:],\n",
    "        #'nchannels_count': file.root.nchannels_count.cols.value[:],\n",
    "        #'qtotal_clean': file.root.qtotal_clean.cols.value[:],\n",
    "        #'qtotal_unclean': file.root.qtotal_unclean.cols.value[:],\n",
    "        #'nhits_clean': file.root.nhits_clean.cols.value[:],\n",
    "        #'nhits_unclean': file.root.nhits_unclean.cols.value[:],\n",
    "        #'zenith_angle': np.degrees(file.root.zenith_angle.cols.value[:]),\n",
    "        #'numu_energy': file.root.numu_energy.cols.value[:],\n",
    "        'MuonEffectiveArea': f.root.MuonEffectiveArea.cols.value[:],\n",
    "        'muon_energy': f.root.muon_energy.cols.value[:],\n",
    "        'dirTrackLengthA_reco': f.root.track_length.cols.value[:]\n",
    "    }\n",
    "    \n",
    "    df = pd.DataFrame(data_dict)\n",
    "    df = df.dropna()\n",
    "    \n",
    "    log_bin, merit_number, error_bars = binned_histogram_Areakey(xdata = df.muon_energy,\n",
    "                                            Eff_A = df.MuonEffectiveArea,\n",
    "                                            error=df.angular_error_mmsreco, \n",
    "                                            bins=11, \n",
    "                                            quant=68,\n",
    "                                            logspace=True)\n",
    "    return log_bin, merit_number, error_bars"
   ]
  },
  {
   "cell_type": "markdown",
   "metadata": {},
   "source": [
    "# Original Multi-Cell method #"
   ]
  },
  {
   "cell_type": "code",
   "execution_count": 6,
   "metadata": {},
   "outputs": [
    {
     "data": {
      "text/plain": [
       "/ (RootGroup) ''\n",
       "  children := ['__I3Index__' (Group), 'MuonEffectiveArea' (Table), 'angular_error_LLHFit_mmsreco' (Table), 'angular_error_LLHFit_step1' (Table), 'angular_error_LLHFit_step2' (Table), 'angular_error_LLHFit_step3' (Table), 'angular_error_LLHFit_step4' (Table), 'angular_error_linefit' (Table), 'event_id' (Table), 'logl_mmsreco' (Table), 'logl_splines_05ns' (Table), 'logl_splines_10ns' (Table), 'logl_splines_20ns' (Table), 'logl_splines_35ns' (Table), 'muon_energy' (Table), 'nchannels_count' (Table), 'nhits_clean' (Table), 'nhits_unclean' (Table), 'qtotal_clean' (Table), 'qtotal_unclean' (Table), 'track_length' (Table), 'zenith_angle' (Table)]"
      ]
     },
     "execution_count": 6,
     "metadata": {},
     "output_type": "execute_result"
    }
   ],
   "source": [
    "# slashes have to be backwards in path\n",
    "f = tables.open_file(\"C:/Users/brayd/Documents/single_muons_muongun_reco_spline_sim0002_waterfits_EffectiveArea.hdf5\")\n",
    "f.root"
   ]
  },
  {
   "cell_type": "code",
   "execution_count": 7,
   "metadata": {},
   "outputs": [],
   "source": [
    "data_dict = {\n",
    "    #'event_id': file.root.event_id.cols.value[:],\n",
    "\n",
    "    #'angular_error_linefit' : np.degrees(file.root.angular_error_linefit.cols.value[:]),\n",
    "    'angular_error_mmsreco': np.degrees(f.root.angular_error_LLHFit_mmsreco.cols.value[:]),\n",
    "    #'angular_error_splines_35ns': np.degrees(file.root.angular_error_LLHFit_step1.cols.value[:]),\n",
    "    #'angular_error_splines_20ns': np.degrees(file.root.angular_error_LLHFit_step2.cols.value[:]),\n",
    "    #'angular_error_splines_10ns': np.degrees(file.root.angular_error_LLHFit_step3.cols.value[:]),\n",
    "    #'angular_error_splines_05ns': np.degrees(file.root.angular_error_LLHFit_step4.cols.value[:]),\n",
    "\n",
    "    #'logl_splines_35ns': file.root.logl_splines_35ns.cols.value[:],\n",
    "    #'logl_splines_20ns': file.root.logl_splines_20ns.cols.value[:],\n",
    "    #'logl_splines_10ns': file.root.logl_splines_10ns.cols.value[:],\n",
    "    #'logl_splines_05ns': file.root.logl_splines_05ns.cols.value[:],\n",
    "    #'logl_mmsreco': file.root.logl_mmsreco.cols.value[:],\n",
    "    #'logl_mctruth': file.root.logl_mctruth.cols.value[:],\n",
    "    #'nchannels_count': file.root.nchannels_count.cols.value[:],\n",
    "    #'qtotal_clean': file.root.qtotal_clean.cols.value[:],\n",
    "    #'qtotal_unclean': file.root.qtotal_unclean.cols.value[:],\n",
    "    #'nhits_clean': file.root.nhits_clean.cols.value[:],\n",
    "    #'nhits_unclean': file.root.nhits_unclean.cols.value[:],\n",
    "    #'zenith_angle': np.degrees(file.root.zenith_angle.cols.value[:]),\n",
    "    #'numu_energy': file.root.numu_energy.cols.value[:],\n",
    "    'MuonEffectiveArea': f.root.MuonEffectiveArea.cols.value[:],\n",
    "    'muon_energy': f.root.muon_energy.cols.value[:],\n",
    "    'dirTrackLengthA_reco': f.root.track_length.cols.value[:]\n",
    "}"
   ]
  },
  {
   "cell_type": "code",
   "execution_count": 8,
   "metadata": {},
   "outputs": [
    {
     "data": {
      "text/html": [
       "<div>\n",
       "<style scoped>\n",
       "    .dataframe tbody tr th:only-of-type {\n",
       "        vertical-align: middle;\n",
       "    }\n",
       "\n",
       "    .dataframe tbody tr th {\n",
       "        vertical-align: top;\n",
       "    }\n",
       "\n",
       "    .dataframe thead th {\n",
       "        text-align: right;\n",
       "    }\n",
       "</style>\n",
       "<table border=\"1\" class=\"dataframe\">\n",
       "  <thead>\n",
       "    <tr style=\"text-align: right;\">\n",
       "      <th></th>\n",
       "      <th>angular_error_mmsreco</th>\n",
       "      <th>MuonEffectiveArea</th>\n",
       "      <th>muon_energy</th>\n",
       "      <th>dirTrackLengthA_reco</th>\n",
       "    </tr>\n",
       "  </thead>\n",
       "  <tbody>\n",
       "    <tr>\n",
       "      <th>0</th>\n",
       "      <td>0.135597</td>\n",
       "      <td>9.734735e+10</td>\n",
       "      <td>82413.121514</td>\n",
       "      <td>257.512445</td>\n",
       "    </tr>\n",
       "    <tr>\n",
       "      <th>1</th>\n",
       "      <td>34.695274</td>\n",
       "      <td>6.004455e+10</td>\n",
       "      <td>50449.818443</td>\n",
       "      <td>135.333762</td>\n",
       "    </tr>\n",
       "    <tr>\n",
       "      <th>3</th>\n",
       "      <td>2.103542</td>\n",
       "      <td>7.693895e+10</td>\n",
       "      <td>64925.967136</td>\n",
       "      <td>238.682905</td>\n",
       "    </tr>\n",
       "    <tr>\n",
       "      <th>4</th>\n",
       "      <td>35.217937</td>\n",
       "      <td>8.055803e+09</td>\n",
       "      <td>5902.700981</td>\n",
       "      <td>177.183219</td>\n",
       "    </tr>\n",
       "    <tr>\n",
       "      <th>5</th>\n",
       "      <td>0.009549</td>\n",
       "      <td>9.633965e+11</td>\n",
       "      <td>824496.665193</td>\n",
       "      <td>938.181358</td>\n",
       "    </tr>\n",
       "    <tr>\n",
       "      <th>...</th>\n",
       "      <td>...</td>\n",
       "      <td>...</td>\n",
       "      <td>...</td>\n",
       "      <td>...</td>\n",
       "    </tr>\n",
       "    <tr>\n",
       "      <th>58981</th>\n",
       "      <td>0.009737</td>\n",
       "      <td>2.236337e+11</td>\n",
       "      <td>190622.926582</td>\n",
       "      <td>1087.936516</td>\n",
       "    </tr>\n",
       "    <tr>\n",
       "      <th>58982</th>\n",
       "      <td>19.961458</td>\n",
       "      <td>3.639989e+10</td>\n",
       "      <td>30189.636449</td>\n",
       "      <td>93.787862</td>\n",
       "    </tr>\n",
       "    <tr>\n",
       "      <th>58983</th>\n",
       "      <td>0.050392</td>\n",
       "      <td>1.403944e+11</td>\n",
       "      <td>119298.453314</td>\n",
       "      <td>159.376226</td>\n",
       "    </tr>\n",
       "    <tr>\n",
       "      <th>58984</th>\n",
       "      <td>0.021210</td>\n",
       "      <td>1.562260e+11</td>\n",
       "      <td>132863.936810</td>\n",
       "      <td>643.433948</td>\n",
       "    </tr>\n",
       "    <tr>\n",
       "      <th>58985</th>\n",
       "      <td>7.879897</td>\n",
       "      <td>2.327064e+10</td>\n",
       "      <td>18939.697460</td>\n",
       "      <td>90.624521</td>\n",
       "    </tr>\n",
       "  </tbody>\n",
       "</table>\n",
       "<p>52064 rows × 4 columns</p>\n",
       "</div>"
      ],
      "text/plain": [
       "       angular_error_mmsreco  MuonEffectiveArea    muon_energy  \\\n",
       "0                   0.135597       9.734735e+10   82413.121514   \n",
       "1                  34.695274       6.004455e+10   50449.818443   \n",
       "3                   2.103542       7.693895e+10   64925.967136   \n",
       "4                  35.217937       8.055803e+09    5902.700981   \n",
       "5                   0.009549       9.633965e+11  824496.665193   \n",
       "...                      ...                ...            ...   \n",
       "58981               0.009737       2.236337e+11  190622.926582   \n",
       "58982              19.961458       3.639989e+10   30189.636449   \n",
       "58983               0.050392       1.403944e+11  119298.453314   \n",
       "58984               0.021210       1.562260e+11  132863.936810   \n",
       "58985               7.879897       2.327064e+10   18939.697460   \n",
       "\n",
       "       dirTrackLengthA_reco  \n",
       "0                257.512445  \n",
       "1                135.333762  \n",
       "3                238.682905  \n",
       "4                177.183219  \n",
       "5                938.181358  \n",
       "...                     ...  \n",
       "58981           1087.936516  \n",
       "58982             93.787862  \n",
       "58983            159.376226  \n",
       "58984            643.433948  \n",
       "58985             90.624521  \n",
       "\n",
       "[52064 rows x 4 columns]"
      ]
     },
     "execution_count": 8,
     "metadata": {},
     "output_type": "execute_result"
    }
   ],
   "source": [
    "df = pd.DataFrame(data_dict)\n",
    "df = df.dropna()\n",
    "df"
   ]
  },
  {
   "cell_type": "code",
   "execution_count": 11,
   "metadata": {},
   "outputs": [
    {
     "name": "stdout",
     "output_type": "stream",
     "text": [
      "[5.33664105e+04 4.60517346e+05 2.00694816e+06 7.07523445e+06\n",
      " 1.82009644e+07 6.73027370e+07 1.41980998e+08 7.24323674e+08\n",
      " 4.15026776e+08 8.47909245e+08]\n",
      "[1.81930828e+02 4.55240603e+02 1.13913628e+03 2.85042999e+03\n",
      " 7.13255407e+03 1.78475976e+04 4.46595621e+04 1.11750418e+05\n",
      " 2.79630056e+05 6.99710745e+05]\n"
     ]
    }
   ],
   "source": [
    "log_bin, merit_number, error = binned_histogram_Areakey(xdata = df.muon_energy,\n",
    "                                            Eff_A = df.MuonEffectiveArea,\n",
    "                                         error=df.angular_error_mmsreco, \n",
    "                                         bins=11, \n",
    "                                         quant=68,\n",
    "                                         logspace=True)\n",
    "print(merit_number)\n",
    "print(log_bin)"
   ]
  },
  {
   "cell_type": "markdown",
   "metadata": {},
   "source": [
    "# Using Pure Data function to get graphing data #"
   ]
  },
  {
   "cell_type": "code",
   "execution_count": 61,
   "metadata": {},
   "outputs": [
    {
     "name": "stdout",
     "output_type": "stream",
     "text": [
      "[2.44762067e+04 3.11907493e+05 1.33939915e+08 8.13708756e+08\n",
      " 7.91864376e+09 6.86431908e+11 1.34064371e+12 4.94972107e+12\n",
      " 1.87539664e+13 5.84480879e+13]\n"
     ]
    }
   ],
   "source": [
    "log_bin_large, merit_number_large, error_large = get_pure_data('C:/Users/brayd/Documents/single_muons_muongun_reco_spline_large_array_EffectiveArea.hdf5')\n",
    "print(error_large)"
   ]
  },
  {
   "cell_type": "code",
   "execution_count": 16,
   "metadata": {},
   "outputs": [],
   "source": [
    "log_bin_large2, merit_number_large2 = get_pure_data(\"C:/Users/brayd/Documents/single_muons_muongun_reco_spline_large_array2_EffectiveArea.hdf5\")\n",
    "print(merit_number_large2)"
   ]
  },
  {
   "cell_type": "code",
   "execution_count": null,
   "metadata": {},
   "outputs": [],
   "source": [
    "log_bin_tan, merit_number_tan = get_pure_data(\"C:/Users/brayd/Documents/single_muons_muongun_reco_spline_tanGCD_effectiveArea.hdf5\")\n",
    "print(merit_number_tan)"
   ]
  },
  {
   "cell_type": "code",
   "execution_count": null,
   "metadata": {},
   "outputs": [],
   "source": [
    "log_bin_rec, merit_number_rec = get_pure_data(\"C:/Users/brayd/Documents/single_muons_muongun_reco_spline_recGCD_EffectiveArea.hdf5\")"
   ]
  },
  {
   "cell_type": "code",
   "execution_count": null,
   "metadata": {},
   "outputs": [],
   "source": [
    "log_bin_arrows, merit_number_arrows = get_pure_data(\"C:/Users/brayd/Documents/single_muons_muongun_reco_spline_Arrows_EffectiveArea.hdf5\")"
   ]
  },
  {
   "cell_type": "code",
   "execution_count": null,
   "metadata": {},
   "outputs": [],
   "source": [
    "log_bin_40m, merit_number_40m = get_pure_data(\"C:/Users/brayd/Documents/single_muons_muongun_reco_spline_40m_spacing_EffectiveArea.hdf5\")"
   ]
  },
  {
   "cell_type": "code",
   "execution_count": null,
   "metadata": {},
   "outputs": [],
   "source": [
    "log_bin_large3, merit_number_large3 = get_pure_data(\"C:/Users/brayd/Documents/single_muons_muongun_reco_spline_Big3_EffectiveArea.hdf5\")"
   ]
  },
  {
   "cell_type": "code",
   "execution_count": null,
   "metadata": {},
   "outputs": [],
   "source": [
    "log_bin_large_100, merit_number_large_100 = get_pure_data(\"C:/Users/brayd/Documents/single_muons_muongun_reco_spline_Large_100m_EffectiveArea.hdf5\")"
   ]
  },
  {
   "cell_type": "code",
   "execution_count": null,
   "metadata": {},
   "outputs": [],
   "source": [
    "log_bin_large_250, merit_number_large_250 = get_pure_data(\"C:/Users/brayd/Documents/single_muons_muongun_reco_spline_Large_250m_EffectiveArea.hdf5\")"
   ]
  },
  {
   "cell_type": "code",
   "execution_count": null,
   "metadata": {},
   "outputs": [],
   "source": [
    "log_bin_80x600, merit_number_80x600 = get_pure_data(\"C:/Users/brayd/Documents/single_muons_muongun_reco_spline_80x600m_EffectiveArea.hdf5\")"
   ]
  },
  {
   "cell_type": "code",
   "execution_count": null,
   "metadata": {},
   "outputs": [],
   "source": [
    "log_bin_rec_offset, merit_number_rec_offset = get_pure_data(\"C:/Users/brayd/Documents/single_muons_muongun_reco_spline_rec_offset_EffectiveArea.hdf5\")"
   ]
  },
  {
   "cell_type": "code",
   "execution_count": 62,
   "metadata": {
    "scrolled": false
   },
   "outputs": [
    {
     "data": {
      "image/png": "[encoded data removed]",
      "text/plain": [
       "<Figure size 800x600 with 1 Axes>"
      ]
     },
     "metadata": {},
     "output_type": "display_data"
    },
    {
     "data": {
      "text/plain": [
       "<Figure size 640x480 with 0 Axes>"
      ]
     },
     "metadata": {},
     "output_type": "display_data"
    }
   ],
   "source": [
    "fig, ax = plt.subplots(figsize=(8,6))\n",
    "#ax.plot(log_bin, merit_number, lw=2, label = 'Default Array', alpha = 0.2)\n",
    "#ax.plot(log_bin_40m, merit_number_40m, lw = 2, c = 'red', label = 'Large Array 40m', ls = ':')\n",
    "#ax.plot(log_bin_large2, merit_number_large2, lw = 2, c = 'orange', label = 'Large Array 80m', alpha = 0.2)\n",
    "#ax.plot(log_bin_large_100, merit_number_large_100, lw = 2, c = 'green', label = 'Large Array 100m')\n",
    "#ax.plot(log_bin_large3, merit_number_large3, lw = 2, c = 'blue', label = 'Large Array 120m', ls = '--')\n",
    "ax.plot(log_bin_large, merit_number_large, lw = 2, c = 'indigo', label = 'Large Array 160m')\n",
    "ax.errorbar(log_bin_large, merit_number_large, yerr = error_large/2, fmt = 'o')\n",
    "#ax.plot(log_bin_tan, merit_number_tan, lw = 2, c = 'green', label = 'Tangent Array')\n",
    "#ax.plot(log_bin_rec, merit_number_rec, lw = 2, c = 'purple', label = 'Rectangle Array')\n",
    "#ax.plot(log_bin_arrows, merit_number_arrows, lw = 2, c = 'magenta', label = 'Arrow Array')\n",
    "#ax.plot(log_bin_large_250, merit_number_large_250, lw = 2, c = 'violet', label = 'Large Array 250m')\n",
    "#ax.plot(log_bin_80x600, merit_number_80x600, lw = 2, c = 'green', label = '80x600', ls = ':')\n",
    "#ax.plot(log_bin_rec_offset, merit_number_rec_offset, lw = 2, c = 'black', label = 'Offset Rectangles')\n",
    "\n",
    "\n",
    "ax.set_xlabel(\"Muon Energy [GeV]\", fontsize=18)\n",
    "ax.set_ylabel(\"Figure of Merit\", fontsize=18)\n",
    "    \n",
    "plt.yticks(fontsize=15)\n",
    "plt.xticks(fontsize=15)\n",
    "plt.title('FoM vs Muon Energy')\n",
    "plt.grid()\n",
    "\n",
    "ax.set_xscale('log')\n",
    "ax.set_yscale('log')\n",
    "ax.legend()\n",
    "plt.tight_layout()\n",
    "\n",
    "plt.show()\n",
    "plt.savefig(fname = 'First4.png', format = 'png');"
   ]
  },
  {
   "cell_type": "markdown",
   "metadata": {},
   "source": [
    "What is effective area part, should know how individual parts of product look"
   ]
  },
  {
   "cell_type": "markdown",
   "metadata": {},
   "source": [
    "* Trigger could be causing weirdness, need ratio of simulated events to recorded events. May not know injected events?\n",
    "simulated events should be input, trigger could be losing events due to low energy. I know how much should be there\n",
    "* Nevents - look at per file, need number of files."
   ]
  },
  {
   "cell_type": "markdown",
   "metadata": {},
   "source": [
    "## Plotting per track length"
   ]
  },
  {
   "cell_type": "code",
   "execution_count": null,
   "metadata": {
    "scrolled": false
   },
   "outputs": [],
   "source": [
    "fig, ax = plt.subplots(figsize=(8,6))\n",
    "\n",
    "for LDir in [0, 100, 200, 400, 700]:\n",
    "    data = df.loc[(df['dirTrackLengthA_reco'] > LDir)]\n",
    "    muon_energy = data.muon_energy\n",
    "    \n",
    "    angular_error_mmsreco = data.angular_error_mmsreco\n",
    "    \n",
    "    log_bin, merit_number = binned_histogram_Areakey(xdata = df.muon_energy,\n",
    "                                         Eff_A = df.MuonEffectiveArea,\n",
    "                                         error = df.angular_error_mmsreco, \n",
    "                                         bins = 11, \n",
    "                                         quant = 68,\n",
    "                                         logspace = True)\n",
    "\n",
    "    ax.plot(log_bin, merit_number, label = f'track length > {LDir} m', lw=2)\n",
    "    \n",
    "    ax.set_xlabel(\"Muon Energy\", fontsize=18)\n",
    "    ax.set_ylabel(\"Merit value\", fontsize=18)\n",
    "    \n",
    "    for axis in ['top','bottom','left','right']:\n",
    "        ax.spines[axis].set_linewidth(1.8)\n",
    "        ax.spines[axis].set_color('0.0')\n",
    "        ax.spines[axis].set_linewidth(1.8)\n",
    "        ax.spines[axis].set_color('0.0')\n",
    "    \n",
    "    ax.set_xscale('log')\n",
    "    ax.legend()\n",
    "plt.show()"
   ]
  },
  {
   "cell_type": "markdown",
   "metadata": {},
   "source": [
    "## Plotting Effective Area and Angular Resolution independently vs Muon Energy"
   ]
  },
  {
   "cell_type": "code",
   "execution_count": 38,
   "metadata": {},
   "outputs": [],
   "source": [
    "def binned_histogram(xdata, error, bins=11, quant=68, logspace=True):\n",
    "    \"\"\"\n",
    "    input: xdata and the corresponding percentage error. as np.array\n",
    "    return: return the bin centers, mean and std of in each bin.\n",
    "    bins : Number of bins. Shoud be an interger not a list. or array.\n",
    "    \"\"\"\n",
    "    if logspace:\n",
    "        bins = np.logspace(np.log10(np.min(xdata)), np.log10(np.max(xdata)), bins)\n",
    "    else:\n",
    "        bins = np.linspace(np.min(xdata), np.max(xdata), bins)\n",
    "    \n",
    "    centers = (bins[1:] + bins[:-1]) / 2.0\n",
    "    lower = centers - bins[:-1]\n",
    "    upper = bins[1:] - centers\n",
    "    \n",
    "    yvals = []\n",
    "    \n",
    "    for lower, upper in zip(bins[:-1], bins[1:]):\n",
    "        cut = (xdata >= lower) & (xdata < upper)\n",
    "        \n",
    "        error_distribution = error[cut]\n",
    "        energy_distribution = xdata[cut]\n",
    "        \n",
    "        mean = np.mean(error_distribution)\n",
    "        yvals.append(mean)\n",
    "    \n",
    "    return (\n",
    "        centers,\n",
    "        np.array(yvals)\n",
    "    )"
   ]
  },
  {
   "cell_type": "code",
   "execution_count": 53,
   "metadata": {},
   "outputs": [],
   "source": [
    "def binned_histogram_eff_area(xdata, error, bins=11, quant=68, logspace=True):\n",
    "    \"\"\"\n",
    "    input: xdata and the corresponding percentage error. as np.array\n",
    "    return: return the bin centers, mean and std of in each bin.\n",
    "    bins : Number of bins. Shoud be an interger not a list. or array.\n",
    "    \"\"\"\n",
    "    if logspace:\n",
    "        bins = np.logspace(np.log10(np.min(xdata)), np.log10(np.max(xdata)), bins)\n",
    "    else:\n",
    "        bins = np.linspace(np.min(xdata), np.max(xdata), bins)\n",
    "    \n",
    "    centers = (bins[1:] + bins[:-1]) / 2.0\n",
    "    lower = centers - bins[:-1]\n",
    "    upper = bins[1:] - centers\n",
    "    \n",
    "    yvals = []\n",
    "    \n",
    "    for lower, upper in zip(bins[:-1], bins[1:]):\n",
    "        cut = (xdata >= lower) & (xdata < upper)\n",
    "        \n",
    "        \n",
    "        energy_distribution = xdata[cut]\n",
    "        error_distribution = error[cut]\n",
    "        \n",
    "        #mean = np.mean(error_distribution)\n",
    "        #yvals.append(mean)\n",
    "        \n",
    "        hist, _ = np.histogram((energy_distribution), 11, weights = error_distribution)\n",
    "        yvals.append(np.mean(hist))\n",
    "    return (\n",
    "        centers,\n",
    "        np.array(yvals)\n",
    "    )"
   ]
  },
  {
   "cell_type": "code",
   "execution_count": 54,
   "metadata": {},
   "outputs": [
    {
     "name": "stdout",
     "output_type": "stream",
     "text": [
      "[1.81930828e+02 4.55240603e+02 1.13913628e+03 2.85042999e+03\n",
      " 7.13255407e+03 1.78475976e+04 4.46595621e+04 1.11750418e+05\n",
      " 2.79630056e+05 6.99710745e+05]\n",
      "[5.42196543e+09 2.64250697e+10 1.21751166e+11 6.28887971e+11\n",
      " 3.00554283e+12 1.17676207e+13 3.88531256e+13 1.09350694e+14\n",
      " 3.02038089e+14 7.88910902e+14]\n"
     ]
    }
   ],
   "source": [
    "log_bin, angular_res = binned_histogram(df.muon_energy,\n",
    "                       df.angular_error_mmsreco,\n",
    "                       bins = 11,\n",
    "                       quant = 68,\n",
    "                       logspace = True)\n",
    "\n",
    "log_bin2, eff_area = binned_histogram_eff_area(df.muon_energy,\n",
    "                       df.MuonEffectiveArea,\n",
    "                       bins = 11,\n",
    "                       quant = 68,\n",
    "                       logspace = True)\n",
    "print(log_bin2)\n",
    "print(eff_area)"
   ]
  },
  {
   "cell_type": "code",
   "execution_count": 55,
   "metadata": {},
   "outputs": [
    {
     "data": {
      "image/png": "[encoded data removed]",
      "text/plain": [
       "<Figure size 640x480 with 2 Axes>"
      ]
     },
     "metadata": {},
     "output_type": "display_data"
    }
   ],
   "source": [
    "fig, axs = plt.subplots(1, 2)\n",
    "\n",
    "axs[0].plot(log_bin, angular_res)\n",
    "axs[0].set_title('Angular Resolution vs Muon Energy')\n",
    "\n",
    "\n",
    "axs[1].plot(log_bin2, eff_area)\n",
    "axs[1].set_title('Effective Area vs Muon Energy')\n",
    "\n",
    "plt.tight_layout()"
   ]
  }
 ],
 "metadata": {
  "kernelspec": {
   "display_name": "Python 3 (ipykernel)",
   "language": "python",
   "name": "python3"
  },
  "language_info": {
   "codemirror_mode": {
    "name": "ipython",
    "version": 3
   },
   "file_extension": ".py",
   "mimetype": "text/x-python",
   "name": "python",
   "nbconvert_exporter": "python",
   "pygments_lexer": "ipython3",
   "version": "3.9.13"
  }
 },
 "nbformat": 4,
 "nbformat_minor": 4
}
