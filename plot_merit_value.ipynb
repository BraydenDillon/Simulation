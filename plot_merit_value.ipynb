{
 "cells": [
  {
   "cell_type": "code",
   "execution_count": 1,
   "metadata": {},
   "outputs": [],
   "source": [
    "#!/usr/bin/env python3\n",
    "\n",
    "import tables\n",
    "import numpy as np\n",
    "import pandas as pd\n",
    "import matplotlib.pyplot as plt"
   ]
  },
  {
   "cell_type": "code",
   "execution_count": 2,
   "metadata": {},
   "outputs": [],
   "source": [
    "#!pwd"
   ]
  },
  {
   "cell_type": "code",
   "execution_count": 3,
   "metadata": {},
   "outputs": [],
   "source": [
    "def get_merit_number(muon_energy, angular_error, radius = 600, nevents=100000):\n",
    "    \"\"\"\n",
    "    muon_energy: as np.array\n",
    "    muon_energy: as np.array\n",
    "    \n",
    "    return: a single float value\n",
    "    \"\"\"\n",
    "    cylinder_area = np.pi*radius**2\n",
    "    val = np.sum(1/(angular_error)**2 * ((muon_energy**(-2)*cylinder_area)/(muon_energy**(-1)*nevents)))\n",
    "    merit_val = val**(1/2)\n",
    "    return merit_val\n",
    "\n",
    "# nevents is constant, will scale up and down.\n",
    "# weighting term\n",
    "# to do: plot for same bins avg angular error, normalize weighting \n",
    "# forget about area and nevents, have sum of ang error * energy weight / sum(energy weight)\n",
    "# weight = muon energy ^-2/muon energy^-1\n",
    "# this is sum angular error\n",
    "# same two plots without energy weighting\n",
    "# angular error sum / angular error ^2 sum square root "
   ]
  },
  {
   "cell_type": "code",
   "execution_count": 4,
   "metadata": {},
   "outputs": [],
   "source": [
    "def revised_merit1(muon_energy, angular_error):\n",
    "    \"\"\"\n",
    "    muon_energy: as np.array\n",
    "    muon_energy: as np.array\n",
    "\n",
    "    return: a single float value\n",
    "    \"\"\"\n",
    "    val = np.sum(1/(angular_error**2)*muon_energy**(-2)/muon_energy**(-1))\n",
    "    merit_val = val**(1/2)\n",
    "    return merit_val"
   ]
  },
  {
   "cell_type": "code",
   "execution_count": 5,
   "metadata": {},
   "outputs": [],
   "source": [
    "def revised_no_weight(angular_error):\n",
    "    val = np.sum(angular_error)/np.sum(angular_error)**2\n",
    "    merit_val = val**(1/2)\n",
    "    return merit_val"
   ]
  },
  {
   "cell_type": "code",
   "execution_count": 6,
   "metadata": {},
   "outputs": [],
   "source": [
    "def merit_numerator_noE(angular_error, radius = 600):\n",
    "    \"\"\"\n",
    "    returns the numerator of the merit value formula without taking energy into account for testing purposes\n",
    "    return: a single float value\n",
    "    \"\"\"\n",
    "    cylinder_area = np.pi*radius**2\n",
    "    val = (np.sum((1/angular_error)**2 * cylinder_area))**(1/2)\n",
    "    return val\n",
    "# possibly area vs non area\n",
    "# split up resolution vs non-area resolution?\n",
    "# still need to apply weighting in only angular res\n",
    "# "
   ]
  },
  {
   "cell_type": "code",
   "execution_count": 7,
   "metadata": {},
   "outputs": [],
   "source": [
    "def merit_denominator_noE(angular_error, nevents = 100000):\n",
    "    \"\"\"\n",
    "    returns the denominator of the merit value formula without taking energy into account for testing purposes\n",
    "    return: a single float\n",
    "    \"\"\"\n",
    "    val = (np.sum((1/angular_error)**2/nevents))**(1/2)\n",
    "    return val"
   ]
  },
  {
   "cell_type": "code",
   "execution_count": 8,
   "metadata": {},
   "outputs": [],
   "source": [
    "def merit_numerator_E(angular_error, muon_energy, radius = 600):\n",
    "    \"\"\"\n",
    "    \n",
    "    \"\"\"\n",
    "    cylinder_area = np.pi*radius**2\n",
    "    val = (np.sum((1/angular_error)**2 * muon_energy**(-2)*cylinder_area))**(1/2)\n",
    "    return val"
   ]
  },
  {
   "cell_type": "code",
   "execution_count": 9,
   "metadata": {},
   "outputs": [],
   "source": [
    "def merit_denominator_E(angular_error, muon_energy, nevents = 100000):\n",
    "    \"\"\"\n",
    "    \n",
    "    \"\"\"\n",
    "    val = (np.sum((1/angular_error)**2/(muon_energy**(-1)*nevents)))**(1/2)\n",
    "    return val"
   ]
  },
  {
   "cell_type": "code",
   "execution_count": 10,
   "metadata": {},
   "outputs": [],
   "source": [
    "def with_AreaKey(angular_error, Effective_area):\n",
    "    val = (np.sum(Effective_area/4*np.pi*angular_error**2))**(1/2)\n",
    "    return val"
   ]
  },
  {
   "cell_type": "code",
   "execution_count": 11,
   "metadata": {},
   "outputs": [],
   "source": [
    "def binned_histogram_Areakey(xdata, error, bins=11, quant=68, logspace=True):\n",
    "    \"\"\"\n",
    "    input: xdata and the corresponding percentage error. as np.array\n",
    "    return: return the bin centers, mean and std of in each bin.\n",
    "    bins : Number of bins. Shoud be an interger not a list. or array.\n",
    "    \"\"\"\n",
    "    if logspace:\n",
    "        bins = np.logspace(np.log10(np.min(xdata)), np.log10(np.max(xdata)), bins)\n",
    "    else:\n",
    "        bins = np.linspace(np.min(xdata), np.max(xdata), bins)\n",
    "    \n",
    "    centers = (bins[1:] + bins[:-1]) / 2.0\n",
    "    lower = centers - bins[:-1]\n",
    "    upper = bins[1:] - centers\n",
    "    \n",
    "    merit_numbers = []\n",
    "    \n",
    "    for lower, upper in zip(bins[:-1], bins[1:]):\n",
    "        cut = (xdata >= lower) & (xdata < upper)\n",
    "        \n",
    "        error_distribution = error[cut]\n",
    "        energy_distribtun = xdata[cut]\n",
    "        \n",
    "        merit_number = with_AreaKey(error_distribution, energy_distribtun)\n",
    "        \n",
    "        merit_numbers.append(merit_number)\n",
    "    return (\n",
    "        centers,\n",
    "        np.array(merit_numbers)\n",
    "    )"
   ]
  },
  {
   "cell_type": "code",
   "execution_count": 12,
   "metadata": {},
   "outputs": [],
   "source": [
    "def binned_histogram(xdata, error, bins=11, quant=68, logspace=True):\n",
    "    \"\"\"\n",
    "    input: xdata and the corresponding percentage error. as np.array\n",
    "    return: return the bin centers, mean and std of in each bin.\n",
    "    bins : Number of bins. Shoud be an interger not a list. or array.\n",
    "    \"\"\"\n",
    "    if logspace:\n",
    "        bins = np.logspace(np.log10(np.min(xdata)), np.log10(np.max(xdata)), bins)\n",
    "    else:\n",
    "        bins = np.linspace(np.min(xdata), np.max(xdata), bins)\n",
    "    \n",
    "    centers = (bins[1:] + bins[:-1]) / 2.0\n",
    "    \n",
    "    \n",
    "    merit_numbers = []\n",
    "    \n",
    "    for lower, upper in zip(bins[:-1], bins[1:]):\n",
    "        cut = (xdata >= lower) & (xdata < upper)\n",
    "        \n",
    "        error_distribution = error[cut]\n",
    "        energy_distribtun = xdata[cut]\n",
    "        \n",
    "        merit_number = get_merit_number(energy_distribtun, error_distribution, radius = 600)\n",
    "        \n",
    "        merit_numbers.append(merit_number)\n",
    "    return (\n",
    "        centers,\n",
    "        np.array(merit_numbers)\n",
    "    )"
   ]
  },
  {
   "cell_type": "code",
   "execution_count": 13,
   "metadata": {},
   "outputs": [],
   "source": [
    "def binned_histogram_numerator_noE(xdata, error, bins=11, quant=68, logspace=True):\n",
    "    \"\"\"\n",
    "    input: xdata and the corresponding percentage error. as np.array\n",
    "    return: return the bin centers, mean and std of in each bin.\n",
    "    bins : Number of bins. Shoud be an interger not a list. or array.\n",
    "    \"\"\"\n",
    "    if logspace:\n",
    "        bins = np.logspace(np.log10(np.min(xdata)), np.log10(np.max(xdata)), bins)\n",
    "    else:\n",
    "        bins = np.linspace(np.min(xdata), np.max(xdata), bins)\n",
    "    \n",
    "    centers = (bins[1:] + bins[:-1]) / 2.0\n",
    "    lower = centers - bins[:-1]\n",
    "    upper = bins[1:] - centers\n",
    "    \n",
    "    merit_numbers = []\n",
    "    \n",
    "    for lower, upper in zip(bins[:-1], bins[1:]):\n",
    "        cut = (xdata >= lower) & (xdata < upper)\n",
    "        \n",
    "        error_distribution = error[cut]\n",
    "        energy_distribtun = xdata[cut]\n",
    "        \n",
    "        merit_number = merit_numerator_E(error_distribution, energy_distribtun)\n",
    "        \n",
    "        merit_numbers.append(merit_number)\n",
    "    return (\n",
    "        centers,\n",
    "        np.array(merit_numbers)\n",
    "    )"
   ]
  },
  {
   "cell_type": "code",
   "execution_count": 14,
   "metadata": {},
   "outputs": [],
   "source": [
    "def binned_histogram_denominator_noE(xdata, error, bins=11, quant=68, logspace=True):\n",
    "    \"\"\"\n",
    "    input: xdata and the corresponding percentage error. as np.array\n",
    "    return: return the bin centers, mean and std of in each bin.\n",
    "    bins : Number of bins. Shoud be an interger not a list. or array.\n",
    "    \"\"\"\n",
    "    if logspace:\n",
    "        bins = np.logspace(np.log10(np.min(xdata)), np.log10(np.max(xdata)), bins)\n",
    "    else:\n",
    "        bins = np.linspace(np.min(xdata), np.max(xdata), bins)\n",
    "    \n",
    "    centers = (bins[1:] + bins[:-1]) / 2.0\n",
    "    lower = centers - bins[:-1]\n",
    "    upper = bins[1:] - centers\n",
    "    \n",
    "    merit_numbers = []\n",
    "    \n",
    "    for lower, upper in zip(bins[:-1], bins[1:]):\n",
    "        cut = (xdata >= lower) & (xdata < upper)\n",
    "        \n",
    "        error_distribution = error[cut]\n",
    "        energy_distribtun = xdata[cut]\n",
    "        \n",
    "        merit_number = merit_denominator_noE(error_distribution)\n",
    "        \n",
    "        merit_numbers.append(merit_number)\n",
    "    return (\n",
    "        centers,\n",
    "        np.array(merit_numbers)\n",
    "    )"
   ]
  },
  {
   "cell_type": "code",
   "execution_count": 15,
   "metadata": {},
   "outputs": [],
   "source": [
    "def binned_histogram_numerator_E(xdata, error, bins=11, quant=68, logspace=True):\n",
    "    \"\"\"\n",
    "    input: xdata and the corresponding percentage error. as np.array\n",
    "    return: return the bin centers, mean and std of in each bin.\n",
    "    bins : Number of bins. Shoud be an interger not a list. or array.\n",
    "    \"\"\"\n",
    "    if logspace:\n",
    "        bins = np.logspace(np.log10(np.min(xdata)), np.log10(np.max(xdata)), bins)\n",
    "    else:\n",
    "        bins = np.linspace(np.min(xdata), np.max(xdata), bins)\n",
    "    \n",
    "    centers = (bins[1:] + bins[:-1]) / 2.0\n",
    "    lower = centers - bins[:-1]\n",
    "    upper = bins[1:] - centers\n",
    "    \n",
    "    merit_numbers = []\n",
    "    \n",
    "    for lower, upper in zip(bins[:-1], bins[1:]):\n",
    "        cut = (xdata >= lower) & (xdata < upper)\n",
    "        \n",
    "        error_distribution = error[cut]\n",
    "        energy_distribtun = xdata[cut]\n",
    "        \n",
    "        merit_number = merit_numerator_noE(error_distribution)\n",
    "        \n",
    "        merit_numbers.append(merit_number)\n",
    "    return (\n",
    "        centers,\n",
    "        np.array(merit_numbers)\n",
    "    )"
   ]
  },
  {
   "cell_type": "code",
   "execution_count": 16,
   "metadata": {},
   "outputs": [],
   "source": [
    "def binned_histogram_denominator_E(xdata, error, bins=11, quant=68, logspace=True):\n",
    "    \"\"\"\n",
    "    input: xdata and the corresponding percentage error. as np.array\n",
    "    return: return the bin centers, mean and std of in each bin.\n",
    "    bins : Number of bins. Shoud be an interger not a list. or array.\n",
    "    \"\"\"\n",
    "    if logspace:\n",
    "        bins = np.logspace(np.log10(np.min(xdata)), np.log10(np.max(xdata)), bins)\n",
    "    else:\n",
    "        bins = np.linspace(np.min(xdata), np.max(xdata), bins)\n",
    "    \n",
    "    centers = (bins[1:] + bins[:-1]) / 2.0\n",
    "    lower = centers - bins[:-1]\n",
    "    upper = bins[1:] - centers\n",
    "    \n",
    "    merit_numbers = []\n",
    "    \n",
    "    for lower, upper in zip(bins[:-1], bins[1:]):\n",
    "        cut = (xdata >= lower) & (xdata < upper)\n",
    "        \n",
    "        error_distribution = error[cut]\n",
    "        energy_distribtun = xdata[cut]\n",
    "        \n",
    "        merit_number = merit_denominator_E(error_distribution, energy_distribtun)\n",
    "        \n",
    "        merit_numbers.append(merit_number)\n",
    "    return (\n",
    "        centers,\n",
    "        np.array(merit_numbers)\n",
    "    )"
   ]
  },
  {
   "cell_type": "code",
   "execution_count": 17,
   "metadata": {},
   "outputs": [],
   "source": [
    "# code from Hans\n",
    "\n",
    "def zenith_to_dec(zenith):\n",
    "    dec = -1.*(np.pi/2. - zenith)\n",
    "    return dec\n",
    "\n",
    "def GreatCircleDistance(ra_1, dec_1, ra_2, dec_2):\n",
    "    #Compute the great circle distance between two events#\n",
    "    #All coordinates must be given in radians#\n",
    "    delta_dec = np.abs(dec_1 - dec_2)\n",
    "    delta_ra = np.abs(ra_1 - ra_2)\n",
    "    x = (np.sin(delta_dec / 2.))**2. + np.cos(dec_1) *\\\n",
    "        np.cos(dec_2) * (np.sin(delta_ra / 2.))**2.\n",
    "    return 2. * np.arcsin(np.sqrt(x))"
   ]
  },
  {
   "cell_type": "code",
   "execution_count": null,
   "metadata": {},
   "outputs": [],
   "source": []
  },
  {
   "cell_type": "markdown",
   "metadata": {},
   "source": [
    "## Data preprocessing"
   ]
  },
  {
   "cell_type": "code",
   "execution_count": null,
   "metadata": {},
   "outputs": [],
   "source": []
  },
  {
   "cell_type": "code",
   "execution_count": 18,
   "metadata": {},
   "outputs": [],
   "source": [
    "# slashes have to be backwards in path\n",
    "#f = tables.open_file(\"C:/Users/brayd/Documents/single_muons_muongun_reco_spline_sim0002_waterfits_EffectiveArea.hdf5\")\n",
    "#f.root"
   ]
  },
  {
   "cell_type": "code",
   "execution_count": 19,
   "metadata": {},
   "outputs": [
    {
     "data": {
      "text/plain": [
       "/ (RootGroup) ''\n",
       "  children := ['__I3Index__' (Group), 'MuonEffectiveArea' (Table), 'angular_error_LLHFit_mmsreco' (Table), 'angular_error_LLHFit_step1' (Table), 'angular_error_LLHFit_step2' (Table), 'angular_error_LLHFit_step3' (Table), 'angular_error_LLHFit_step4' (Table), 'angular_error_linefit' (Table), 'event_id' (Table), 'logl_mmsreco' (Table), 'logl_splines_05ns' (Table), 'logl_splines_10ns' (Table), 'logl_splines_20ns' (Table), 'logl_splines_35ns' (Table), 'muon_energy' (Table), 'nchannels_count' (Table), 'nhits_clean' (Table), 'nhits_unclean' (Table), 'qtotal_clean' (Table), 'qtotal_unclean' (Table), 'track_length' (Table), 'zenith_angle' (Table)]"
      ]
     },
     "execution_count": 19,
     "metadata": {},
     "output_type": "execute_result"
    }
   ],
   "source": [
    "# slashes have to be backwards in path\n",
    "f = tables.open_file(\"single_muons_muongun_reco_spline_sim0002_waterfits_EffectiveArea.hdf5\")\n",
    "f.root"
   ]
  },
  {
   "cell_type": "code",
   "execution_count": null,
   "metadata": {},
   "outputs": [],
   "source": []
  },
  {
   "cell_type": "code",
   "execution_count": 20,
   "metadata": {},
   "outputs": [],
   "source": [
    "#zenith_true = f.root.MCMuon.col(\"zenith\")\n",
    "#azimuth_true = f.root.MCMuon.col(\"azimuth\")\n",
    "#dec_true = zenith_to_dec(zenith_true)"
   ]
  },
  {
   "cell_type": "code",
   "execution_count": 21,
   "metadata": {},
   "outputs": [],
   "source": [
    "\n",
    "#zenith_reco = f.root.LLHFit_mmsreco.col(\"zenith\")\n",
    "#azimuth_reco = f.root.LLHFit_mmsreco.col(\"azimuth\")\n",
    "#dec_reco = zenith_to_dec(zenith_reco)"
   ]
  },
  {
   "cell_type": "code",
   "execution_count": 22,
   "metadata": {},
   "outputs": [],
   "source": [
    "#dpsi = GreatCircleDistance(azimuth_true, dec_true, azimuth_reco, dec_reco)\n",
    "#print(np.rad2deg(np.percentile(dpsi[np.isfinite(dpsi)], [10, 50, 90])))"
   ]
  },
  {
   "cell_type": "code",
   "execution_count": null,
   "metadata": {},
   "outputs": [],
   "source": []
  },
  {
   "cell_type": "code",
   "execution_count": 23,
   "metadata": {},
   "outputs": [],
   "source": [
    "data_dict = {\n",
    "    #'event_id': file.root.event_id.cols.value[:],\n",
    "\n",
    "    #'angular_error_linefit' : np.degrees(file.root.angular_error_linefit.cols.value[:]),\n",
    "    'angular_error_mmsreco': np.degrees(f.root.angular_error_LLHFit_mmsreco.cols.value[:]),\n",
    "    #'angular_error_splines_35ns': np.degrees(file.root.angular_error_LLHFit_step1.cols.value[:]),\n",
    "    #'angular_error_splines_20ns': np.degrees(file.root.angular_error_LLHFit_step2.cols.value[:]),\n",
    "    #'angular_error_splines_10ns': np.degrees(file.root.angular_error_LLHFit_step3.cols.value[:]),\n",
    "    #'angular_error_splines_05ns': np.degrees(file.root.angular_error_LLHFit_step4.cols.value[:]),\n",
    "\n",
    "    #'logl_splines_35ns': file.root.logl_splines_35ns.cols.value[:],\n",
    "    #'logl_splines_20ns': file.root.logl_splines_20ns.cols.value[:],\n",
    "    #'logl_splines_10ns': file.root.logl_splines_10ns.cols.value[:],\n",
    "    #'logl_splines_05ns': file.root.logl_splines_05ns.cols.value[:],\n",
    "    #'logl_mmsreco': file.root.logl_mmsreco.cols.value[:],\n",
    "    #'logl_mctruth': file.root.logl_mctruth.cols.value[:],\n",
    "    #'nchannels_count': file.root.nchannels_count.cols.value[:],\n",
    "    #'qtotal_clean': file.root.qtotal_clean.cols.value[:],\n",
    "    #'qtotal_unclean': file.root.qtotal_unclean.cols.value[:],\n",
    "    #'nhits_clean': file.root.nhits_clean.cols.value[:],\n",
    "    #'nhits_unclean': file.root.nhits_unclean.cols.value[:],\n",
    "    #'zenith_angle': np.degrees(file.root.zenith_angle.cols.value[:]),\n",
    "    #'numu_energy': file.root.numu_energy.cols.value[:],\n",
    "    'MuonEffectiveArea': f.root.MuonEffectiveArea.cols.value[:],\n",
    "    'muon_energy': f.root.muon_energy.cols.value[:],\n",
    "    'dirTrackLengthA_reco': f.root.track_length.cols.value[:]\n",
    "}"
   ]
  },
  {
   "cell_type": "code",
   "execution_count": 24,
   "metadata": {},
   "outputs": [
    {
     "data": {
      "text/html": [
       "<div>\n",
       "<style scoped>\n",
       "    .dataframe tbody tr th:only-of-type {\n",
       "        vertical-align: middle;\n",
       "    }\n",
       "\n",
       "    .dataframe tbody tr th {\n",
       "        vertical-align: top;\n",
       "    }\n",
       "\n",
       "    .dataframe thead th {\n",
       "        text-align: right;\n",
       "    }\n",
       "</style>\n",
       "<table border=\"1\" class=\"dataframe\">\n",
       "  <thead>\n",
       "    <tr style=\"text-align: right;\">\n",
       "      <th></th>\n",
       "      <th>angular_error_mmsreco</th>\n",
       "      <th>MuonEffectiveArea</th>\n",
       "      <th>muon_energy</th>\n",
       "      <th>dirTrackLengthA_reco</th>\n",
       "    </tr>\n",
       "  </thead>\n",
       "  <tbody>\n",
       "    <tr>\n",
       "      <th>0</th>\n",
       "      <td>0.135597</td>\n",
       "      <td>9.734735e+10</td>\n",
       "      <td>82413.121514</td>\n",
       "      <td>257.512445</td>\n",
       "    </tr>\n",
       "    <tr>\n",
       "      <th>1</th>\n",
       "      <td>34.695274</td>\n",
       "      <td>6.004455e+10</td>\n",
       "      <td>50449.818443</td>\n",
       "      <td>135.333762</td>\n",
       "    </tr>\n",
       "    <tr>\n",
       "      <th>2</th>\n",
       "      <td>11.100694</td>\n",
       "      <td>2.364044e+11</td>\n",
       "      <td>201565.655862</td>\n",
       "      <td>NaN</td>\n",
       "    </tr>\n",
       "    <tr>\n",
       "      <th>3</th>\n",
       "      <td>2.103542</td>\n",
       "      <td>7.693895e+10</td>\n",
       "      <td>64925.967136</td>\n",
       "      <td>238.682905</td>\n",
       "    </tr>\n",
       "    <tr>\n",
       "      <th>4</th>\n",
       "      <td>35.217937</td>\n",
       "      <td>8.055803e+09</td>\n",
       "      <td>5902.700981</td>\n",
       "      <td>177.183219</td>\n",
       "    </tr>\n",
       "    <tr>\n",
       "      <th>...</th>\n",
       "      <td>...</td>\n",
       "      <td>...</td>\n",
       "      <td>...</td>\n",
       "      <td>...</td>\n",
       "    </tr>\n",
       "    <tr>\n",
       "      <th>58981</th>\n",
       "      <td>0.009737</td>\n",
       "      <td>2.236337e+11</td>\n",
       "      <td>190622.926582</td>\n",
       "      <td>1087.936516</td>\n",
       "    </tr>\n",
       "    <tr>\n",
       "      <th>58982</th>\n",
       "      <td>19.961458</td>\n",
       "      <td>3.639989e+10</td>\n",
       "      <td>30189.636449</td>\n",
       "      <td>93.787862</td>\n",
       "    </tr>\n",
       "    <tr>\n",
       "      <th>58983</th>\n",
       "      <td>0.050392</td>\n",
       "      <td>1.403944e+11</td>\n",
       "      <td>119298.453314</td>\n",
       "      <td>159.376226</td>\n",
       "    </tr>\n",
       "    <tr>\n",
       "      <th>58984</th>\n",
       "      <td>0.021210</td>\n",
       "      <td>1.562260e+11</td>\n",
       "      <td>132863.936810</td>\n",
       "      <td>643.433948</td>\n",
       "    </tr>\n",
       "    <tr>\n",
       "      <th>58985</th>\n",
       "      <td>7.879897</td>\n",
       "      <td>2.327064e+10</td>\n",
       "      <td>18939.697460</td>\n",
       "      <td>90.624521</td>\n",
       "    </tr>\n",
       "  </tbody>\n",
       "</table>\n",
       "<p>58986 rows × 4 columns</p>\n",
       "</div>"
      ],
      "text/plain": [
       "       angular_error_mmsreco  MuonEffectiveArea    muon_energy  \\\n",
       "0                   0.135597       9.734735e+10   82413.121514   \n",
       "1                  34.695274       6.004455e+10   50449.818443   \n",
       "2                  11.100694       2.364044e+11  201565.655862   \n",
       "3                   2.103542       7.693895e+10   64925.967136   \n",
       "4                  35.217937       8.055803e+09    5902.700981   \n",
       "...                      ...                ...            ...   \n",
       "58981               0.009737       2.236337e+11  190622.926582   \n",
       "58982              19.961458       3.639989e+10   30189.636449   \n",
       "58983               0.050392       1.403944e+11  119298.453314   \n",
       "58984               0.021210       1.562260e+11  132863.936810   \n",
       "58985               7.879897       2.327064e+10   18939.697460   \n",
       "\n",
       "       dirTrackLengthA_reco  \n",
       "0                257.512445  \n",
       "1                135.333762  \n",
       "2                       NaN  \n",
       "3                238.682905  \n",
       "4                177.183219  \n",
       "...                     ...  \n",
       "58981           1087.936516  \n",
       "58982             93.787862  \n",
       "58983            159.376226  \n",
       "58984            643.433948  \n",
       "58985             90.624521  \n",
       "\n",
       "[58986 rows x 4 columns]"
      ]
     },
     "execution_count": 24,
     "metadata": {},
     "output_type": "execute_result"
    }
   ],
   "source": [
    "df = pd.DataFrame(data_dict)\n",
    "df"
   ]
  },
  {
   "cell_type": "code",
   "execution_count": null,
   "metadata": {},
   "outputs": [],
   "source": []
  },
  {
   "cell_type": "code",
   "execution_count": 25,
   "metadata": {},
   "outputs": [
    {
     "name": "stdout",
     "output_type": "stream",
     "text": [
      "angular_error_mmsreco    1811\n",
      "MuonEffectiveArea           0\n",
      "muon_energy                 0\n",
      "dirTrackLengthA_reco     6922\n",
      "dtype: int64\n"
     ]
    }
   ],
   "source": [
    "# checking for NaN values\n",
    "print(df.isnull().sum())"
   ]
  },
  {
   "cell_type": "code",
   "execution_count": 26,
   "metadata": {},
   "outputs": [
    {
     "data": {
      "text/html": [
       "<div>\n",
       "<style scoped>\n",
       "    .dataframe tbody tr th:only-of-type {\n",
       "        vertical-align: middle;\n",
       "    }\n",
       "\n",
       "    .dataframe tbody tr th {\n",
       "        vertical-align: top;\n",
       "    }\n",
       "\n",
       "    .dataframe thead th {\n",
       "        text-align: right;\n",
       "    }\n",
       "</style>\n",
       "<table border=\"1\" class=\"dataframe\">\n",
       "  <thead>\n",
       "    <tr style=\"text-align: right;\">\n",
       "      <th></th>\n",
       "      <th>angular_error_mmsreco</th>\n",
       "      <th>MuonEffectiveArea</th>\n",
       "      <th>muon_energy</th>\n",
       "      <th>dirTrackLengthA_reco</th>\n",
       "    </tr>\n",
       "  </thead>\n",
       "  <tbody>\n",
       "    <tr>\n",
       "      <th>0</th>\n",
       "      <td>0.135597</td>\n",
       "      <td>9.734735e+10</td>\n",
       "      <td>82413.121514</td>\n",
       "      <td>257.512445</td>\n",
       "    </tr>\n",
       "    <tr>\n",
       "      <th>1</th>\n",
       "      <td>34.695274</td>\n",
       "      <td>6.004455e+10</td>\n",
       "      <td>50449.818443</td>\n",
       "      <td>135.333762</td>\n",
       "    </tr>\n",
       "    <tr>\n",
       "      <th>3</th>\n",
       "      <td>2.103542</td>\n",
       "      <td>7.693895e+10</td>\n",
       "      <td>64925.967136</td>\n",
       "      <td>238.682905</td>\n",
       "    </tr>\n",
       "    <tr>\n",
       "      <th>4</th>\n",
       "      <td>35.217937</td>\n",
       "      <td>8.055803e+09</td>\n",
       "      <td>5902.700981</td>\n",
       "      <td>177.183219</td>\n",
       "    </tr>\n",
       "    <tr>\n",
       "      <th>5</th>\n",
       "      <td>0.009549</td>\n",
       "      <td>9.633965e+11</td>\n",
       "      <td>824496.665193</td>\n",
       "      <td>938.181358</td>\n",
       "    </tr>\n",
       "    <tr>\n",
       "      <th>...</th>\n",
       "      <td>...</td>\n",
       "      <td>...</td>\n",
       "      <td>...</td>\n",
       "      <td>...</td>\n",
       "    </tr>\n",
       "    <tr>\n",
       "      <th>58981</th>\n",
       "      <td>0.009737</td>\n",
       "      <td>2.236337e+11</td>\n",
       "      <td>190622.926582</td>\n",
       "      <td>1087.936516</td>\n",
       "    </tr>\n",
       "    <tr>\n",
       "      <th>58982</th>\n",
       "      <td>19.961458</td>\n",
       "      <td>3.639989e+10</td>\n",
       "      <td>30189.636449</td>\n",
       "      <td>93.787862</td>\n",
       "    </tr>\n",
       "    <tr>\n",
       "      <th>58983</th>\n",
       "      <td>0.050392</td>\n",
       "      <td>1.403944e+11</td>\n",
       "      <td>119298.453314</td>\n",
       "      <td>159.376226</td>\n",
       "    </tr>\n",
       "    <tr>\n",
       "      <th>58984</th>\n",
       "      <td>0.021210</td>\n",
       "      <td>1.562260e+11</td>\n",
       "      <td>132863.936810</td>\n",
       "      <td>643.433948</td>\n",
       "    </tr>\n",
       "    <tr>\n",
       "      <th>58985</th>\n",
       "      <td>7.879897</td>\n",
       "      <td>2.327064e+10</td>\n",
       "      <td>18939.697460</td>\n",
       "      <td>90.624521</td>\n",
       "    </tr>\n",
       "  </tbody>\n",
       "</table>\n",
       "<p>52064 rows × 4 columns</p>\n",
       "</div>"
      ],
      "text/plain": [
       "       angular_error_mmsreco  MuonEffectiveArea    muon_energy  \\\n",
       "0                   0.135597       9.734735e+10   82413.121514   \n",
       "1                  34.695274       6.004455e+10   50449.818443   \n",
       "3                   2.103542       7.693895e+10   64925.967136   \n",
       "4                  35.217937       8.055803e+09    5902.700981   \n",
       "5                   0.009549       9.633965e+11  824496.665193   \n",
       "...                      ...                ...            ...   \n",
       "58981               0.009737       2.236337e+11  190622.926582   \n",
       "58982              19.961458       3.639989e+10   30189.636449   \n",
       "58983               0.050392       1.403944e+11  119298.453314   \n",
       "58984               0.021210       1.562260e+11  132863.936810   \n",
       "58985               7.879897       2.327064e+10   18939.697460   \n",
       "\n",
       "       dirTrackLengthA_reco  \n",
       "0                257.512445  \n",
       "1                135.333762  \n",
       "3                238.682905  \n",
       "4                177.183219  \n",
       "5                938.181358  \n",
       "...                     ...  \n",
       "58981           1087.936516  \n",
       "58982             93.787862  \n",
       "58983            159.376226  \n",
       "58984            643.433948  \n",
       "58985             90.624521  \n",
       "\n",
       "[52064 rows x 4 columns]"
      ]
     },
     "execution_count": 26,
     "metadata": {},
     "output_type": "execute_result"
    }
   ],
   "source": [
    "df = df.dropna()\n",
    "df"
   ]
  },
  {
   "cell_type": "code",
   "execution_count": null,
   "metadata": {},
   "outputs": [],
   "source": []
  },
  {
   "cell_type": "code",
   "execution_count": 27,
   "metadata": {},
   "outputs": [
    {
     "data": {
      "text/plain": [
       "123.85848056809039"
      ]
     },
     "execution_count": 27,
     "metadata": {},
     "output_type": "execute_result"
    }
   ],
   "source": [
    "get_merit_number(df.muon_energy, df.angular_error_mmsreco)"
   ]
  },
  {
   "cell_type": "code",
   "execution_count": 28,
   "metadata": {},
   "outputs": [],
   "source": [
    "log_bin, merit_number = binned_histogram(xdata = df.muon_energy,\n",
    "                                         error=df.angular_error_mmsreco, \n",
    "                                         bins=11, \n",
    "                                         quant=68,\n",
    "                                         logspace=True)"
   ]
  },
  {
   "cell_type": "code",
   "execution_count": 29,
   "metadata": {},
   "outputs": [],
   "source": [
    "log_bin1, merit_number1 = binned_histogram_numerator_noE(xdata = df.muon_energy,\n",
    "                                         error=df.angular_error_mmsreco, \n",
    "                                         bins=11, \n",
    "                                         quant=68,\n",
    "                                         logspace=True)"
   ]
  },
  {
   "cell_type": "code",
   "execution_count": 30,
   "metadata": {},
   "outputs": [],
   "source": [
    "log_bin2, merit_number2 = binned_histogram_denominator_noE(xdata = df.muon_energy,\n",
    "                                         error=df.angular_error_mmsreco, \n",
    "                                         bins=11, \n",
    "                                         quant=68,\n",
    "                                         logspace=True)"
   ]
  },
  {
   "cell_type": "code",
   "execution_count": 31,
   "metadata": {},
   "outputs": [],
   "source": [
    "log_bin3, merit_number3 = binned_histogram_numerator_E(xdata = df.muon_energy,\n",
    "                                         error=df.angular_error_mmsreco, \n",
    "                                         bins=11, \n",
    "                                         quant=68,\n",
    "                                         logspace=True)"
   ]
  },
  {
   "cell_type": "code",
   "execution_count": 32,
   "metadata": {},
   "outputs": [],
   "source": [
    "log_bin4, merit_number4 = binned_histogram_denominator_E(xdata = df.muon_energy,\n",
    "                                         error=df.angular_error_mmsreco, \n",
    "                                         bins=11, \n",
    "                                         quant=68,\n",
    "                                         logspace=True)"
   ]
  },
  {
   "cell_type": "code",
   "execution_count": 33,
   "metadata": {},
   "outputs": [
    {
     "data": {
      "text/plain": [
       "10"
      ]
     },
     "execution_count": 33,
     "metadata": {},
     "output_type": "execute_result"
    }
   ],
   "source": [
    "len(log_bin)"
   ]
  },
  {
   "cell_type": "code",
   "execution_count": 34,
   "metadata": {},
   "outputs": [
    {
     "data": {
      "text/plain": [
       "10"
      ]
     },
     "execution_count": 34,
     "metadata": {},
     "output_type": "execute_result"
    }
   ],
   "source": [
    "len(merit_number)"
   ]
  },
  {
   "cell_type": "code",
   "execution_count": 35,
   "metadata": {},
   "outputs": [],
   "source": [
    "def with_AreaKey(angular_error, Effective_area):\n",
    "    val = (np.sum(Effective_area/(4*np.pi*angular_error**2))**(1/2))\n",
    "    return val"
   ]
  },
  {
   "cell_type": "code",
   "execution_count": null,
   "metadata": {},
   "outputs": [],
   "source": []
  },
  {
   "cell_type": "code",
   "execution_count": null,
   "metadata": {},
   "outputs": [],
   "source": []
  },
  {
   "cell_type": "code",
   "execution_count": 36,
   "metadata": {},
   "outputs": [],
   "source": [
    "def binned_histogram_Areakey(xdata, Eff_A, error, bins=11, quant=68, logspace=True):\n",
    "    \"\"\"\n",
    "    input: xdata and the corresponding percentage error. as np.array\n",
    "    return: return the bin centers, mean and std of in each bin.\n",
    "    bins : Number of bins. Shoud be an interger not a list. or array.\n",
    "    \"\"\"\n",
    "    if logspace:\n",
    "        bins = np.logspace(np.log10(np.min(xdata)), np.log10(np.max(xdata)), bins)\n",
    "    else:\n",
    "        bins = np.linspace(np.min(xdata), np.max(xdata), bins)\n",
    "    \n",
    "    centers = (bins[1:] + bins[:-1]) / 2.0\n",
    "    lower = centers - bins[:-1]\n",
    "    upper = bins[1:] - centers\n",
    "    \n",
    "    merit_numbers = []\n",
    "    \n",
    "    for lower, upper in zip(bins[:-1], bins[1:]):\n",
    "        cut = (xdata >= lower) & (xdata < upper)\n",
    "        \n",
    "        error_distribution = error[cut]\n",
    "        energy_distribution = xdata[cut]\n",
    "        \n",
    "        \n",
    "        merit_number = with_AreaKey(error_distribution, Eff_A)\n",
    "        \n",
    "        merit_numbers.append(merit_number)\n",
    "    return (\n",
    "        centers,\n",
    "        np.array(merit_numbers)\n",
    "    )"
   ]
  },
  {
   "cell_type": "code",
   "execution_count": 37,
   "metadata": {},
   "outputs": [
    {
     "name": "stdout",
     "output_type": "stream",
     "text": [
      "[5.33664105e+04 4.60517346e+05 2.00694816e+06 7.07523445e+06\n",
      " 1.82009644e+07 6.73027370e+07 1.41980998e+08 7.24323674e+08\n",
      " 4.15026776e+08 8.47909245e+08]\n"
     ]
    }
   ],
   "source": [
    "log_bin, merit_number = binned_histogram_Areakey(xdata = df.muon_energy,\n",
    "                                            Eff_A = df.MuonEffectiveArea,\n",
    "                                         error=df.angular_error_mmsreco, \n",
    "                                         bins=11, \n",
    "                                         quant=68,\n",
    "                                         logspace=True)\n",
    "print(merit_number)"
   ]
  },
  {
   "cell_type": "code",
   "execution_count": 38,
   "metadata": {},
   "outputs": [
    {
     "data": {
      "image/png": "[encoded data removed]",
      "text/plain": [
       "<Figure size 576x432 with 1 Axes>"
      ]
     },
     "metadata": {
      "needs_background": "light"
     },
     "output_type": "display_data"
    }
   ],
   "source": [
    "fig, ax = plt.subplots(figsize=(8,6))\n",
    "\n",
    "ax.plot(log_bin, merit_number, lw=2)\n",
    "\n",
    "for axis in ['top','bottom','left','right']:\n",
    "    ax.spines[axis].set_linewidth(1.8)\n",
    "    ax.spines[axis].set_color('0.0')\n",
    "    ax.spines[axis].set_linewidth(1.8)\n",
    "    ax.spines[axis].set_color('0.0')\n",
    "\n",
    "ax.set_xlabel(\"Muon Energy\", fontsize=18)\n",
    "ax.set_ylabel(\"Merit value\", fontsize=18)\n",
    "    \n",
    "plt.yticks(fontsize=15)\n",
    "plt.xticks(fontsize=15)\n",
    "\n",
    "ax.set_xscale('log')\n",
    "ax.set_yscale('log')\n",
    "plt.tight_layout()\n",
    "plt.show()"
   ]
  },
  {
   "cell_type": "markdown",
   "metadata": {},
   "source": [
    "What is effective area part, should know how individual parts of product look"
   ]
  },
  {
   "cell_type": "code",
   "execution_count": 39,
   "metadata": {},
   "outputs": [
    {
     "data": {
      "image/png": "[encoded data removed]",
      "text/plain": [
       "<Figure size 576x432 with 4 Axes>"
      ]
     },
     "metadata": {
      "needs_background": "light"
     },
     "output_type": "display_data"
    }
   ],
   "source": [
    "fig, (ax1, ax2, ax3, ax4) = plt.subplots(1, 4, figsize=(8, 6))\n",
    "\n",
    "ax1.plot(log_bin1, merit_number1, lw=2)\n",
    "ax2.plot(log_bin2, merit_number2, lw=2)\n",
    "ax3.plot(log_bin3, merit_number3, lw=2)\n",
    "ax4.plot(log_bin4, merit_number4, lw=2)\n",
    "\n",
    "\n",
    "for axis in ['top','bottom','left','right']:\n",
    "    ax.spines[axis].set_linewidth(1.8)\n",
    "    ax.spines[axis].set_color('0.0')\n",
    "    ax.spines[axis].set_linewidth(1.8)\n",
    "    ax.spines[axis].set_color('0.0')\n",
    "\n",
    "ax1.set_xlabel(\"Muon Energy\")\n",
    "#ax1.set_ylabel(\"Merit value\")\n",
    "ax2.set_xlabel(\"Muon Energy\")\n",
    "#ax2.set_ylabel(\"Merit value\")\n",
    "ax3.set_xlabel(\"Muon Energy\")\n",
    "#ax3.set_ylabel(\"Merit value\")\n",
    "ax4.set_xlabel(\"Muon Energy\")\n",
    "#ax4.set_ylabel(\"Merit value\")\n",
    "\n",
    "ax1.set_title('Numerator')\n",
    "ax2.set_title('Denominator')\n",
    "ax3.set_title('Numerator E')\n",
    "ax4.set_title('Denominator E')\n",
    "    \n",
    "plt.yticks(fontsize=15)\n",
    "plt.xticks(fontsize=15)\n",
    "\n",
    "ax.set_xscale('log')\n",
    "plt.tight_layout()\n",
    "plt.show()"
   ]
  },
  {
   "cell_type": "markdown",
   "metadata": {},
   "source": [
    "* Trigger could be causing weirdness, need ratio of simulated events to recorded events. May not know injected events?\n",
    "simulated events should be input, trigger could be losing events due to low energy. I know how much should be there\n",
    "* Nevents - look at per file, need number of files."
   ]
  },
  {
   "cell_type": "markdown",
   "metadata": {},
   "source": [
    "## Plotting per track length"
   ]
  },
  {
   "cell_type": "code",
   "execution_count": 40,
   "metadata": {
    "scrolled": false
   },
   "outputs": [
    {
     "data": {
      "image/png": "[encoded data removed]",
      "text/plain": [
       "<Figure size 576x432 with 1 Axes>"
      ]
     },
     "metadata": {
      "needs_background": "light"
     },
     "output_type": "display_data"
    }
   ],
   "source": [
    "fig, ax = plt.subplots(figsize=(8,6))\n",
    "\n",
    "for LDir in [0, 100, 200, 400, 700]:\n",
    "    data = df.loc[(df['dirTrackLengthA_reco'] > LDir)]\n",
    "    muon_energy = data.muon_energy\n",
    "    \n",
    "    angular_error_mmsreco = data.angular_error_mmsreco\n",
    "    \n",
    "    log_bin, merit_number = binned_histogram(xdata = muon_energy,\n",
    "                                         error = angular_error_mmsreco, \n",
    "                                         bins = 11, \n",
    "                                         quant = 68,\n",
    "                                         logspace = True)\n",
    "\n",
    "    ax.plot(log_bin, merit_number, label = f'track length > {LDir} m', lw=2)\n",
    "    \n",
    "    ax.set_xlabel(\"Muon Energy\", fontsize=18)\n",
    "    ax.set_ylabel(\"Merit value\", fontsize=18)\n",
    "    \n",
    "    for axis in ['top','bottom','left','right']:\n",
    "        ax.spines[axis].set_linewidth(1.8)\n",
    "        ax.spines[axis].set_color('0.0')\n",
    "        ax.spines[axis].set_linewidth(1.8)\n",
    "        ax.spines[axis].set_color('0.0')\n",
    "    \n",
    "    ax.set_xscale('log')\n",
    "    ax.legend()\n",
    "plt.show()"
   ]
  },
  {
   "cell_type": "code",
   "execution_count": null,
   "metadata": {},
   "outputs": [],
   "source": []
  }
 ],
 "metadata": {
  "kernelspec": {
   "display_name": "Python 3",
   "language": "python",
   "name": "python3"
  },
  "language_info": {
   "codemirror_mode": {
    "name": "ipython",
    "version": 3
   },
   "file_extension": ".py",
   "mimetype": "text/x-python",
   "name": "python",
   "nbconvert_exporter": "python",
   "pygments_lexer": "ipython3",
   "version": "3.8.5"
  }
 },
 "nbformat": 4,
 "nbformat_minor": 4
}
