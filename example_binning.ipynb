{
 "cells": [
  {
   "cell_type": "code",
   "execution_count": 1,
   "metadata": {},
   "outputs": [],
   "source": [
    "#!/usr/bin/env python3\n",
    "\n",
    "import tables\n",
    "import numpy as np\n",
    "import pandas as pd\n",
    "import matplotlib.pyplot as plt"
   ]
  },
  {
   "cell_type": "code",
   "execution_count": 2,
   "metadata": {},
   "outputs": [],
   "source": [
    "def with_AreaKey(angular_error, Effective_area):\n",
    "    val = (np.sum(Effective_area/4*np.pi*angular_error**2))**(1/2)\n",
    "    return val"
   ]
  },
  {
   "cell_type": "code",
   "execution_count": 3,
   "metadata": {},
   "outputs": [],
   "source": [
    "import numpy as np\n",
    "\n",
    "def get_binned_data(xdata, ang_error, aeff, nbins=11, quant=68, logspace=True):\n",
    "    \"\"\"\n",
    "    Parameters:\n",
    "    - xdata: np.array\n",
    "        Energy values.\n",
    "    - ang_error: np.array\n",
    "        Corresponding percentage error for each energy value.\n",
    "    - aeff: np.array\n",
    "        Effective area corresponding to each energy value.\n",
    "\n",
    "    Returns:\n",
    "    - centers: np.array\n",
    "        Bin centers.\n",
    "    - merit_numbers: np.array\n",
    "        Merit numbers calculated for each bin.\n",
    "\n",
    "    Note:\n",
    "    - Merit number is calculated using a pre-defined function with_AreaKey.\n",
    "    \"\"\"\n",
    "    if logspace:\n",
    "        bins = np.logspace(np.log10(np.min(xdata)), np.log10(np.max(xdata)), nbins)\n",
    "    else:\n",
    "        bins = np.linspace(np.min(xdata), np.max(xdata), nbins)\n",
    "    \n",
    "    centers = (bins[1:] + bins[:-1]) / 2.0\n",
    "    \n",
    "    merit_numbers = []\n",
    "    \n",
    "    for i in range(len(bins) - 1):\n",
    "        lower, upper = bins[i], bins[i+1]\n",
    "        mask = (xdata >= lower) & (xdata < upper)\n",
    "        \n",
    "        energy_distribution = xdata[mask]\n",
    "        ang_error_distribution = ang_error[mask]\n",
    "        aeff_distribution = aeff[mask]\n",
    "        \n",
    "        merit_number = with_AreaKey(ang_error_distribution, aeff_distribution)\n",
    "        \n",
    "        merit_numbers.append(merit_number)\n",
    "    \n",
    "    return centers, np.array(merit_numbers)"
   ]
  },
  {
   "cell_type": "markdown",
   "metadata": {},
   "source": [
    "## Data preprocessing"
   ]
  },
  {
   "cell_type": "code",
   "execution_count": null,
   "metadata": {},
   "outputs": [],
   "source": []
  },
  {
   "cell_type": "code",
   "execution_count": 4,
   "metadata": {},
   "outputs": [],
   "source": [
    "# slashes have to be backwards in path\n",
    "#f = tables.open_file(\"C:/Users/brayd/Documents/single_muons_muongun_reco_spline_sim0002_waterfits_EffectiveArea.hdf5\")\n",
    "#f.root"
   ]
  },
  {
   "cell_type": "code",
   "execution_count": 5,
   "metadata": {},
   "outputs": [],
   "source": [
    "# slashes have to be backwards in path\n",
    "f = tables.open_file(\"single_muons_muongun_reco_spline_sim0002_waterfits_EffectiveArea.hdf5\")\n",
    "#f.root"
   ]
  },
  {
   "cell_type": "code",
   "execution_count": null,
   "metadata": {},
   "outputs": [],
   "source": []
  },
  {
   "cell_type": "code",
   "execution_count": 6,
   "metadata": {},
   "outputs": [],
   "source": [
    "data_dict = {\n",
    "    'angular_error_mmsreco': np.degrees(f.root.angular_error_LLHFit_mmsreco.cols.value[:]),\n",
    "    'MuonEffectiveArea': f.root.MuonEffectiveArea.cols.value[:],\n",
    "    'muon_energy': f.root.muon_energy.cols.value[:],\n",
    "    'dirTrackLengthA_reco': f.root.track_length.cols.value[:]\n",
    "}"
   ]
  },
  {
   "cell_type": "code",
   "execution_count": 7,
   "metadata": {},
   "outputs": [
    {
     "data": {
      "text/html": [
       "<div>\n",
       "<style scoped>\n",
       "    .dataframe tbody tr th:only-of-type {\n",
       "        vertical-align: middle;\n",
       "    }\n",
       "\n",
       "    .dataframe tbody tr th {\n",
       "        vertical-align: top;\n",
       "    }\n",
       "\n",
       "    .dataframe thead th {\n",
       "        text-align: right;\n",
       "    }\n",
       "</style>\n",
       "<table border=\"1\" class=\"dataframe\">\n",
       "  <thead>\n",
       "    <tr style=\"text-align: right;\">\n",
       "      <th></th>\n",
       "      <th>angular_error_mmsreco</th>\n",
       "      <th>MuonEffectiveArea</th>\n",
       "      <th>muon_energy</th>\n",
       "      <th>dirTrackLengthA_reco</th>\n",
       "    </tr>\n",
       "  </thead>\n",
       "  <tbody>\n",
       "    <tr>\n",
       "      <th>0</th>\n",
       "      <td>0.135597</td>\n",
       "      <td>9.734735e+10</td>\n",
       "      <td>82413.121514</td>\n",
       "      <td>257.512445</td>\n",
       "    </tr>\n",
       "    <tr>\n",
       "      <th>1</th>\n",
       "      <td>34.695274</td>\n",
       "      <td>6.004455e+10</td>\n",
       "      <td>50449.818443</td>\n",
       "      <td>135.333762</td>\n",
       "    </tr>\n",
       "    <tr>\n",
       "      <th>2</th>\n",
       "      <td>11.100694</td>\n",
       "      <td>2.364044e+11</td>\n",
       "      <td>201565.655862</td>\n",
       "      <td>NaN</td>\n",
       "    </tr>\n",
       "    <tr>\n",
       "      <th>3</th>\n",
       "      <td>2.103542</td>\n",
       "      <td>7.693895e+10</td>\n",
       "      <td>64925.967136</td>\n",
       "      <td>238.682905</td>\n",
       "    </tr>\n",
       "    <tr>\n",
       "      <th>4</th>\n",
       "      <td>35.217937</td>\n",
       "      <td>8.055803e+09</td>\n",
       "      <td>5902.700981</td>\n",
       "      <td>177.183219</td>\n",
       "    </tr>\n",
       "    <tr>\n",
       "      <th>...</th>\n",
       "      <td>...</td>\n",
       "      <td>...</td>\n",
       "      <td>...</td>\n",
       "      <td>...</td>\n",
       "    </tr>\n",
       "    <tr>\n",
       "      <th>58981</th>\n",
       "      <td>0.009737</td>\n",
       "      <td>2.236337e+11</td>\n",
       "      <td>190622.926582</td>\n",
       "      <td>1087.936516</td>\n",
       "    </tr>\n",
       "    <tr>\n",
       "      <th>58982</th>\n",
       "      <td>19.961458</td>\n",
       "      <td>3.639989e+10</td>\n",
       "      <td>30189.636449</td>\n",
       "      <td>93.787862</td>\n",
       "    </tr>\n",
       "    <tr>\n",
       "      <th>58983</th>\n",
       "      <td>0.050392</td>\n",
       "      <td>1.403944e+11</td>\n",
       "      <td>119298.453314</td>\n",
       "      <td>159.376226</td>\n",
       "    </tr>\n",
       "    <tr>\n",
       "      <th>58984</th>\n",
       "      <td>0.021210</td>\n",
       "      <td>1.562260e+11</td>\n",
       "      <td>132863.936810</td>\n",
       "      <td>643.433948</td>\n",
       "    </tr>\n",
       "    <tr>\n",
       "      <th>58985</th>\n",
       "      <td>7.879897</td>\n",
       "      <td>2.327064e+10</td>\n",
       "      <td>18939.697460</td>\n",
       "      <td>90.624521</td>\n",
       "    </tr>\n",
       "  </tbody>\n",
       "</table>\n",
       "<p>58986 rows × 4 columns</p>\n",
       "</div>"
      ],
      "text/plain": [
       "       angular_error_mmsreco  MuonEffectiveArea    muon_energy  \\\n",
       "0                   0.135597       9.734735e+10   82413.121514   \n",
       "1                  34.695274       6.004455e+10   50449.818443   \n",
       "2                  11.100694       2.364044e+11  201565.655862   \n",
       "3                   2.103542       7.693895e+10   64925.967136   \n",
       "4                  35.217937       8.055803e+09    5902.700981   \n",
       "...                      ...                ...            ...   \n",
       "58981               0.009737       2.236337e+11  190622.926582   \n",
       "58982              19.961458       3.639989e+10   30189.636449   \n",
       "58983               0.050392       1.403944e+11  119298.453314   \n",
       "58984               0.021210       1.562260e+11  132863.936810   \n",
       "58985               7.879897       2.327064e+10   18939.697460   \n",
       "\n",
       "       dirTrackLengthA_reco  \n",
       "0                257.512445  \n",
       "1                135.333762  \n",
       "2                       NaN  \n",
       "3                238.682905  \n",
       "4                177.183219  \n",
       "...                     ...  \n",
       "58981           1087.936516  \n",
       "58982             93.787862  \n",
       "58983            159.376226  \n",
       "58984            643.433948  \n",
       "58985             90.624521  \n",
       "\n",
       "[58986 rows x 4 columns]"
      ]
     },
     "execution_count": 7,
     "metadata": {},
     "output_type": "execute_result"
    }
   ],
   "source": [
    "df = pd.DataFrame(data_dict)\n",
    "df"
   ]
  },
  {
   "cell_type": "code",
   "execution_count": 8,
   "metadata": {},
   "outputs": [
    {
     "name": "stdout",
     "output_type": "stream",
     "text": [
      "angular_error_mmsreco    1811\n",
      "MuonEffectiveArea           0\n",
      "muon_energy                 0\n",
      "dirTrackLengthA_reco     6922\n",
      "dtype: int64\n"
     ]
    }
   ],
   "source": [
    "# check for NaNs\n",
    "print(df.isnull().sum())"
   ]
  },
  {
   "cell_type": "code",
   "execution_count": 9,
   "metadata": {},
   "outputs": [
    {
     "data": {
      "text/html": [
       "<div>\n",
       "<style scoped>\n",
       "    .dataframe tbody tr th:only-of-type {\n",
       "        vertical-align: middle;\n",
       "    }\n",
       "\n",
       "    .dataframe tbody tr th {\n",
       "        vertical-align: top;\n",
       "    }\n",
       "\n",
       "    .dataframe thead th {\n",
       "        text-align: right;\n",
       "    }\n",
       "</style>\n",
       "<table border=\"1\" class=\"dataframe\">\n",
       "  <thead>\n",
       "    <tr style=\"text-align: right;\">\n",
       "      <th></th>\n",
       "      <th>angular_error_mmsreco</th>\n",
       "      <th>MuonEffectiveArea</th>\n",
       "      <th>muon_energy</th>\n",
       "      <th>dirTrackLengthA_reco</th>\n",
       "    </tr>\n",
       "  </thead>\n",
       "  <tbody>\n",
       "    <tr>\n",
       "      <th>0</th>\n",
       "      <td>0.135597</td>\n",
       "      <td>9.734735e+10</td>\n",
       "      <td>82413.121514</td>\n",
       "      <td>257.512445</td>\n",
       "    </tr>\n",
       "    <tr>\n",
       "      <th>1</th>\n",
       "      <td>34.695274</td>\n",
       "      <td>6.004455e+10</td>\n",
       "      <td>50449.818443</td>\n",
       "      <td>135.333762</td>\n",
       "    </tr>\n",
       "    <tr>\n",
       "      <th>3</th>\n",
       "      <td>2.103542</td>\n",
       "      <td>7.693895e+10</td>\n",
       "      <td>64925.967136</td>\n",
       "      <td>238.682905</td>\n",
       "    </tr>\n",
       "    <tr>\n",
       "      <th>4</th>\n",
       "      <td>35.217937</td>\n",
       "      <td>8.055803e+09</td>\n",
       "      <td>5902.700981</td>\n",
       "      <td>177.183219</td>\n",
       "    </tr>\n",
       "    <tr>\n",
       "      <th>5</th>\n",
       "      <td>0.009549</td>\n",
       "      <td>9.633965e+11</td>\n",
       "      <td>824496.665193</td>\n",
       "      <td>938.181358</td>\n",
       "    </tr>\n",
       "    <tr>\n",
       "      <th>...</th>\n",
       "      <td>...</td>\n",
       "      <td>...</td>\n",
       "      <td>...</td>\n",
       "      <td>...</td>\n",
       "    </tr>\n",
       "    <tr>\n",
       "      <th>58981</th>\n",
       "      <td>0.009737</td>\n",
       "      <td>2.236337e+11</td>\n",
       "      <td>190622.926582</td>\n",
       "      <td>1087.936516</td>\n",
       "    </tr>\n",
       "    <tr>\n",
       "      <th>58982</th>\n",
       "      <td>19.961458</td>\n",
       "      <td>3.639989e+10</td>\n",
       "      <td>30189.636449</td>\n",
       "      <td>93.787862</td>\n",
       "    </tr>\n",
       "    <tr>\n",
       "      <th>58983</th>\n",
       "      <td>0.050392</td>\n",
       "      <td>1.403944e+11</td>\n",
       "      <td>119298.453314</td>\n",
       "      <td>159.376226</td>\n",
       "    </tr>\n",
       "    <tr>\n",
       "      <th>58984</th>\n",
       "      <td>0.021210</td>\n",
       "      <td>1.562260e+11</td>\n",
       "      <td>132863.936810</td>\n",
       "      <td>643.433948</td>\n",
       "    </tr>\n",
       "    <tr>\n",
       "      <th>58985</th>\n",
       "      <td>7.879897</td>\n",
       "      <td>2.327064e+10</td>\n",
       "      <td>18939.697460</td>\n",
       "      <td>90.624521</td>\n",
       "    </tr>\n",
       "  </tbody>\n",
       "</table>\n",
       "<p>52064 rows × 4 columns</p>\n",
       "</div>"
      ],
      "text/plain": [
       "       angular_error_mmsreco  MuonEffectiveArea    muon_energy  \\\n",
       "0                   0.135597       9.734735e+10   82413.121514   \n",
       "1                  34.695274       6.004455e+10   50449.818443   \n",
       "3                   2.103542       7.693895e+10   64925.967136   \n",
       "4                  35.217937       8.055803e+09    5902.700981   \n",
       "5                   0.009549       9.633965e+11  824496.665193   \n",
       "...                      ...                ...            ...   \n",
       "58981               0.009737       2.236337e+11  190622.926582   \n",
       "58982              19.961458       3.639989e+10   30189.636449   \n",
       "58983               0.050392       1.403944e+11  119298.453314   \n",
       "58984               0.021210       1.562260e+11  132863.936810   \n",
       "58985               7.879897       2.327064e+10   18939.697460   \n",
       "\n",
       "       dirTrackLengthA_reco  \n",
       "0                257.512445  \n",
       "1                135.333762  \n",
       "3                238.682905  \n",
       "4                177.183219  \n",
       "5                938.181358  \n",
       "...                     ...  \n",
       "58981           1087.936516  \n",
       "58982             93.787862  \n",
       "58983            159.376226  \n",
       "58984            643.433948  \n",
       "58985             90.624521  \n",
       "\n",
       "[52064 rows x 4 columns]"
      ]
     },
     "execution_count": 9,
     "metadata": {},
     "output_type": "execute_result"
    }
   ],
   "source": [
    "df = df.dropna()\n",
    "df"
   ]
  },
  {
   "cell_type": "code",
   "execution_count": null,
   "metadata": {},
   "outputs": [],
   "source": []
  },
  {
   "cell_type": "code",
   "execution_count": 10,
   "metadata": {},
   "outputs": [],
   "source": [
    "log_bin, merit_number = get_binned_data(xdata = df.muon_energy, \n",
    "                                        ang_error= df.angular_error_mmsreco, \n",
    "                                        aeff = df.MuonEffectiveArea,\n",
    "                                        nbins = 11,\n",
    "                                        logspace=True)"
   ]
  },
  {
   "cell_type": "code",
   "execution_count": 11,
   "metadata": {},
   "outputs": [
    {
     "data": {
      "image/png": "[encoded data removed]",
      "text/plain": [
       "<Figure size 576x432 with 1 Axes>"
      ]
     },
     "metadata": {
      "needs_background": "light"
     },
     "output_type": "display_data"
    }
   ],
   "source": [
    "fig, ax = plt.subplots(figsize=(8,6))\n",
    "\n",
    "ax.plot(log_bin, merit_number, lw=2)\n",
    "\n",
    "for axis in ['top','bottom','left','right']:\n",
    "    ax.spines[axis].set_linewidth(1.8)\n",
    "    ax.spines[axis].set_color('0.0')\n",
    "    ax.spines[axis].set_linewidth(1.8)\n",
    "    ax.spines[axis].set_color('0.0')\n",
    "\n",
    "ax.set_xlabel(\"Muon Energy\", fontsize=18)\n",
    "ax.set_ylabel(\"Merit value\", fontsize=18)\n",
    "    \n",
    "plt.yticks(fontsize=15)\n",
    "plt.xticks(fontsize=15)\n",
    "\n",
    "ax.set_xscale('log')\n",
    "ax.set_yscale('log')\n",
    "plt.tight_layout()\n",
    "plt.show()"
   ]
  },
  {
   "cell_type": "markdown",
   "metadata": {},
   "source": [
    "## Plotting per track length"
   ]
  },
  {
   "cell_type": "code",
   "execution_count": 12,
   "metadata": {
    "scrolled": false
   },
   "outputs": [
    {
     "data": {
      "image/png": "[encoded data removed]",
      "text/plain": [
       "<Figure size 576x432 with 1 Axes>"
      ]
     },
     "metadata": {
      "needs_background": "light"
     },
     "output_type": "display_data"
    }
   ],
   "source": [
    "fig, ax = plt.subplots(figsize=(8,6))\n",
    "\n",
    "for LDir in [0, 100, 200, 400, 700]:\n",
    "    data = df.loc[(df['dirTrackLengthA_reco'] > LDir)]\n",
    "    \n",
    "    log_bin, merit_number = get_binned_data(xdata = data.muon_energy, \n",
    "                                        ang_error= data.angular_error_mmsreco, \n",
    "                                        aeff = data.MuonEffectiveArea,\n",
    "                                        nbins = 11,\n",
    "                                        logspace=True)\n",
    "\n",
    "    ax.plot(log_bin, merit_number, label = f'track length > {LDir} m', lw=2)\n",
    "    \n",
    "    ax.set_xlabel(\"Muon Energy\", fontsize=18)\n",
    "    ax.set_ylabel(\"Merit value\", fontsize=18)\n",
    "    \n",
    "    for axis in ['top','bottom','left','right']:\n",
    "        ax.spines[axis].set_linewidth(1.8)\n",
    "        ax.spines[axis].set_color('0.0')\n",
    "        ax.spines[axis].set_linewidth(1.8)\n",
    "        ax.spines[axis].set_color('0.0')\n",
    "    \n",
    "    ax.set_xscale('log')\n",
    "    ax.set_yscale('log')\n",
    "    ax.legend()\n",
    "plt.show()"
   ]
  },
  {
   "cell_type": "code",
   "execution_count": null,
   "metadata": {},
   "outputs": [],
   "source": []
  }
 ],
 "metadata": {
  "kernelspec": {
   "display_name": "Python 3",
   "language": "python",
   "name": "python3"
  },
  "language_info": {
   "codemirror_mode": {
    "name": "ipython",
    "version": 3
   },
   "file_extension": ".py",
   "mimetype": "text/x-python",
   "name": "python",
   "nbconvert_exporter": "python",
   "pygments_lexer": "ipython3",
   "version": "3.8.5"
  }
 },
 "nbformat": 4,
 "nbformat_minor": 4
}
