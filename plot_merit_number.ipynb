{
 "cells": [
  {
   "cell_type": "code",
   "execution_count": 1,
   "metadata": {},
   "outputs": [],
   "source": [
    "#!/usr/bin/env python3\n",
    "\n",
    "import tables\n",
    "import numpy as np\n",
    "import pandas as pd\n",
    "import matplotlib.pyplot as plt"
   ]
  },
  {
   "cell_type": "code",
   "execution_count": 2,
   "metadata": {},
   "outputs": [],
   "source": [
    "#!pwd"
   ]
  },
  {
   "cell_type": "code",
   "execution_count": 3,
   "metadata": {},
   "outputs": [],
   "source": [
    "def get_merit_number(muon_energy, angular_error, radius = 600, nevents=500000):\n",
    "    \"\"\"\n",
    "    muon_energy: as np.array\n",
    "    muon_energy: as np.array\n",
    "    \n",
    "    return: a single float value\n",
    "    \"\"\"\n",
    "    cylinder_area = np.pi*radius**2\n",
    "    val = np.sum(1/(angular_error)**2 * ((muon_energy**(-2)*cylinder_area)/(muon_energy**(-1)*nevents)))\n",
    "    merit_val = val**(1/2)\n",
    "    return merit_val"
   ]
  },
  {
   "cell_type": "code",
   "execution_count": 4,
   "metadata": {},
   "outputs": [],
   "source": [
    "def binned_histogram(xdata, error, bins=11, quant=68, logspace=True):\n",
    "    \"\"\"\n",
    "    input: xdata and the corresponding percentage error. as np.array\n",
    "    return: return the bin centers, mean and std of in each bin.\n",
    "    bins : Number of bins. Shoud be an interger not a list. or array.\n",
    "    \"\"\"\n",
    "    if logspace:\n",
    "        bins = np.logspace(np.log10(np.min(xdata)), np.log10(np.max(xdata)), bins)\n",
    "    else:\n",
    "        bins = np.linspace(np.min(xdata), np.max(xdata), bins)\n",
    "    \n",
    "    centers = (bins[1:] + bins[:-1]) / 2.0\n",
    "    lower = centers - bins[:-1]\n",
    "    upper = bins[1:] - centers\n",
    "    \n",
    "    merit_numbers = []\n",
    "    \n",
    "    for lower, upper in zip(bins[:-1], bins[1:]):\n",
    "        cut = (xdata >= lower) & (xdata < upper)\n",
    "        \n",
    "        error_distribution = error[cut]\n",
    "        energy_distribtun = xdata[cut]\n",
    "        \n",
    "        merit_number = get_merit_number(energy_distribtun, error_distribution, radius = 600)\n",
    "        \n",
    "        merit_numbers.append(merit_number)\n",
    "    return (\n",
    "        centers,\n",
    "        np.array(merit_numbers)\n",
    "    )"
   ]
  },
  {
   "cell_type": "code",
   "execution_count": 5,
   "metadata": {},
   "outputs": [],
   "source": [
    "# code from Hans\n",
    "\n",
    "def zenith_to_dec(zenith):\n",
    "    dec = -1.*(np.pi/2. - zenith)\n",
    "    return dec\n",
    "\n",
    "def GreatCircleDistance(ra_1, dec_1, ra_2, dec_2):\n",
    "    #Compute the great circle distance between two events#\n",
    "    #All coordinates must be given in radians#\n",
    "    delta_dec = np.abs(dec_1 - dec_2)\n",
    "    delta_ra = np.abs(ra_1 - ra_2)\n",
    "    x = (np.sin(delta_dec / 2.))**2. + np.cos(dec_1) *\\\n",
    "        np.cos(dec_2) * (np.sin(delta_ra / 2.))**2.\n",
    "    return 2. * np.arcsin(np.sqrt(x))"
   ]
  },
  {
   "cell_type": "code",
   "execution_count": null,
   "metadata": {},
   "outputs": [],
   "source": []
  },
  {
   "cell_type": "markdown",
   "metadata": {},
   "source": [
    "## Data preprocessing"
   ]
  },
  {
   "cell_type": "code",
   "execution_count": null,
   "metadata": {},
   "outputs": [],
   "source": []
  },
  {
   "cell_type": "code",
   "execution_count": 6,
   "metadata": {},
   "outputs": [],
   "source": [
    "f = tables.open_file('data/muon_gun_reco_spline_sim0005_water_fits.hdf5')\n",
    "#f.root"
   ]
  },
  {
   "cell_type": "code",
   "execution_count": null,
   "metadata": {},
   "outputs": [],
   "source": []
  },
  {
   "cell_type": "code",
   "execution_count": 7,
   "metadata": {},
   "outputs": [],
   "source": [
    "zenith_true = f.root.MCMuon.col(\"zenith\")\n",
    "azimuth_true = f.root.MCMuon.col(\"azimuth\")\n",
    "dec_true = zenith_to_dec(zenith_true)"
   ]
  },
  {
   "cell_type": "code",
   "execution_count": 8,
   "metadata": {},
   "outputs": [],
   "source": [
    "\n",
    "zenith_reco = f.root.LLHFit_mmsreco.col(\"zenith\")\n",
    "azimuth_reco = f.root.LLHFit_mmsreco.col(\"azimuth\")\n",
    "dec_reco = zenith_to_dec(zenith_reco)"
   ]
  },
  {
   "cell_type": "code",
   "execution_count": 9,
   "metadata": {},
   "outputs": [
    {
     "name": "stdout",
     "output_type": "stream",
     "text": [
      "[4.45803359e-02 1.07852121e+00 6.42350350e+01]\n"
     ]
    }
   ],
   "source": [
    "dpsi = GreatCircleDistance(azimuth_true, dec_true, azimuth_reco, dec_reco)\n",
    "print(np.rad2deg(np.percentile(dpsi[np.isfinite(dpsi)], [10, 50, 90])))"
   ]
  },
  {
   "cell_type": "code",
   "execution_count": null,
   "metadata": {},
   "outputs": [],
   "source": []
  },
  {
   "cell_type": "code",
   "execution_count": 10,
   "metadata": {},
   "outputs": [],
   "source": [
    "data_dict = {\n",
    "    'angular_error_mmsreco': np.degrees(dpsi),\n",
    "    'muon_energy': f.root.MCMuon.col(\"energy\"),\n",
    "    'dirTrackLengthA_reco': f.root.LLHFit_mmsrecoDirectHitsA.col(\"dir_track_length\")\n",
    "}"
   ]
  },
  {
   "cell_type": "code",
   "execution_count": 11,
   "metadata": {},
   "outputs": [
    {
     "data": {
      "text/html": [
       "<div>\n",
       "<style scoped>\n",
       "    .dataframe tbody tr th:only-of-type {\n",
       "        vertical-align: middle;\n",
       "    }\n",
       "\n",
       "    .dataframe tbody tr th {\n",
       "        vertical-align: top;\n",
       "    }\n",
       "\n",
       "    .dataframe thead th {\n",
       "        text-align: right;\n",
       "    }\n",
       "</style>\n",
       "<table border=\"1\" class=\"dataframe\">\n",
       "  <thead>\n",
       "    <tr style=\"text-align: right;\">\n",
       "      <th></th>\n",
       "      <th>angular_error_mmsreco</th>\n",
       "      <th>muon_energy</th>\n",
       "      <th>dirTrackLengthA_reco</th>\n",
       "    </tr>\n",
       "  </thead>\n",
       "  <tbody>\n",
       "    <tr>\n",
       "      <th>0</th>\n",
       "      <td>0.109332</td>\n",
       "      <td>512903.553092</td>\n",
       "      <td>915.748829</td>\n",
       "    </tr>\n",
       "    <tr>\n",
       "      <th>1</th>\n",
       "      <td>83.227653</td>\n",
       "      <td>11354.850029</td>\n",
       "      <td>NaN</td>\n",
       "    </tr>\n",
       "    <tr>\n",
       "      <th>2</th>\n",
       "      <td>0.170790</td>\n",
       "      <td>17764.540622</td>\n",
       "      <td>968.139153</td>\n",
       "    </tr>\n",
       "    <tr>\n",
       "      <th>3</th>\n",
       "      <td>0.172002</td>\n",
       "      <td>1786.377278</td>\n",
       "      <td>465.954543</td>\n",
       "    </tr>\n",
       "    <tr>\n",
       "      <th>4</th>\n",
       "      <td>3.315244</td>\n",
       "      <td>19814.882604</td>\n",
       "      <td>200.199007</td>\n",
       "    </tr>\n",
       "    <tr>\n",
       "      <th>...</th>\n",
       "      <td>...</td>\n",
       "      <td>...</td>\n",
       "      <td>...</td>\n",
       "    </tr>\n",
       "    <tr>\n",
       "      <th>293184</th>\n",
       "      <td>120.540935</td>\n",
       "      <td>52549.088219</td>\n",
       "      <td>NaN</td>\n",
       "    </tr>\n",
       "    <tr>\n",
       "      <th>293185</th>\n",
       "      <td>0.017255</td>\n",
       "      <td>507285.577759</td>\n",
       "      <td>879.021947</td>\n",
       "    </tr>\n",
       "    <tr>\n",
       "      <th>293186</th>\n",
       "      <td>26.426626</td>\n",
       "      <td>186959.461117</td>\n",
       "      <td>NaN</td>\n",
       "    </tr>\n",
       "    <tr>\n",
       "      <th>293187</th>\n",
       "      <td>NaN</td>\n",
       "      <td>2823.378348</td>\n",
       "      <td>NaN</td>\n",
       "    </tr>\n",
       "    <tr>\n",
       "      <th>293188</th>\n",
       "      <td>33.458746</td>\n",
       "      <td>5452.972518</td>\n",
       "      <td>114.382024</td>\n",
       "    </tr>\n",
       "  </tbody>\n",
       "</table>\n",
       "<p>293189 rows × 3 columns</p>\n",
       "</div>"
      ],
      "text/plain": [
       "        angular_error_mmsreco    muon_energy  dirTrackLengthA_reco\n",
       "0                    0.109332  512903.553092            915.748829\n",
       "1                   83.227653   11354.850029                   NaN\n",
       "2                    0.170790   17764.540622            968.139153\n",
       "3                    0.172002    1786.377278            465.954543\n",
       "4                    3.315244   19814.882604            200.199007\n",
       "...                       ...            ...                   ...\n",
       "293184             120.540935   52549.088219                   NaN\n",
       "293185               0.017255  507285.577759            879.021947\n",
       "293186              26.426626  186959.461117                   NaN\n",
       "293187                    NaN    2823.378348                   NaN\n",
       "293188              33.458746    5452.972518            114.382024\n",
       "\n",
       "[293189 rows x 3 columns]"
      ]
     },
     "execution_count": 11,
     "metadata": {},
     "output_type": "execute_result"
    }
   ],
   "source": [
    "df = pd.DataFrame(data_dict)\n",
    "df"
   ]
  },
  {
   "cell_type": "code",
   "execution_count": null,
   "metadata": {},
   "outputs": [],
   "source": []
  },
  {
   "cell_type": "code",
   "execution_count": 12,
   "metadata": {},
   "outputs": [
    {
     "name": "stdout",
     "output_type": "stream",
     "text": [
      "angular_error_mmsreco     8715\n",
      "muon_energy                  0\n",
      "dirTrackLengthA_reco     33675\n",
      "dtype: int64\n"
     ]
    }
   ],
   "source": [
    "# checking for NaN values\n",
    "print(df.isnull().sum())"
   ]
  },
  {
   "cell_type": "code",
   "execution_count": 13,
   "metadata": {},
   "outputs": [
    {
     "data": {
      "text/html": [
       "<div>\n",
       "<style scoped>\n",
       "    .dataframe tbody tr th:only-of-type {\n",
       "        vertical-align: middle;\n",
       "    }\n",
       "\n",
       "    .dataframe tbody tr th {\n",
       "        vertical-align: top;\n",
       "    }\n",
       "\n",
       "    .dataframe thead th {\n",
       "        text-align: right;\n",
       "    }\n",
       "</style>\n",
       "<table border=\"1\" class=\"dataframe\">\n",
       "  <thead>\n",
       "    <tr style=\"text-align: right;\">\n",
       "      <th></th>\n",
       "      <th>angular_error_mmsreco</th>\n",
       "      <th>muon_energy</th>\n",
       "      <th>dirTrackLengthA_reco</th>\n",
       "    </tr>\n",
       "  </thead>\n",
       "  <tbody>\n",
       "    <tr>\n",
       "      <th>0</th>\n",
       "      <td>0.109332</td>\n",
       "      <td>512903.553092</td>\n",
       "      <td>915.748829</td>\n",
       "    </tr>\n",
       "    <tr>\n",
       "      <th>2</th>\n",
       "      <td>0.170790</td>\n",
       "      <td>17764.540622</td>\n",
       "      <td>968.139153</td>\n",
       "    </tr>\n",
       "    <tr>\n",
       "      <th>3</th>\n",
       "      <td>0.172002</td>\n",
       "      <td>1786.377278</td>\n",
       "      <td>465.954543</td>\n",
       "    </tr>\n",
       "    <tr>\n",
       "      <th>4</th>\n",
       "      <td>3.315244</td>\n",
       "      <td>19814.882604</td>\n",
       "      <td>200.199007</td>\n",
       "    </tr>\n",
       "    <tr>\n",
       "      <th>5</th>\n",
       "      <td>0.011252</td>\n",
       "      <td>213786.235387</td>\n",
       "      <td>980.957370</td>\n",
       "    </tr>\n",
       "    <tr>\n",
       "      <th>...</th>\n",
       "      <td>...</td>\n",
       "      <td>...</td>\n",
       "      <td>...</td>\n",
       "    </tr>\n",
       "    <tr>\n",
       "      <th>293181</th>\n",
       "      <td>0.034643</td>\n",
       "      <td>237624.620391</td>\n",
       "      <td>951.753038</td>\n",
       "    </tr>\n",
       "    <tr>\n",
       "      <th>293182</th>\n",
       "      <td>53.677076</td>\n",
       "      <td>5413.821422</td>\n",
       "      <td>86.607289</td>\n",
       "    </tr>\n",
       "    <tr>\n",
       "      <th>293183</th>\n",
       "      <td>0.099085</td>\n",
       "      <td>400185.205235</td>\n",
       "      <td>638.132060</td>\n",
       "    </tr>\n",
       "    <tr>\n",
       "      <th>293185</th>\n",
       "      <td>0.017255</td>\n",
       "      <td>507285.577759</td>\n",
       "      <td>879.021947</td>\n",
       "    </tr>\n",
       "    <tr>\n",
       "      <th>293188</th>\n",
       "      <td>33.458746</td>\n",
       "      <td>5452.972518</td>\n",
       "      <td>114.382024</td>\n",
       "    </tr>\n",
       "  </tbody>\n",
       "</table>\n",
       "<p>259514 rows × 3 columns</p>\n",
       "</div>"
      ],
      "text/plain": [
       "        angular_error_mmsreco    muon_energy  dirTrackLengthA_reco\n",
       "0                    0.109332  512903.553092            915.748829\n",
       "2                    0.170790   17764.540622            968.139153\n",
       "3                    0.172002    1786.377278            465.954543\n",
       "4                    3.315244   19814.882604            200.199007\n",
       "5                    0.011252  213786.235387            980.957370\n",
       "...                       ...            ...                   ...\n",
       "293181               0.034643  237624.620391            951.753038\n",
       "293182              53.677076    5413.821422             86.607289\n",
       "293183               0.099085  400185.205235            638.132060\n",
       "293185               0.017255  507285.577759            879.021947\n",
       "293188              33.458746    5452.972518            114.382024\n",
       "\n",
       "[259514 rows x 3 columns]"
      ]
     },
     "execution_count": 13,
     "metadata": {},
     "output_type": "execute_result"
    }
   ],
   "source": [
    "df = df.dropna()\n",
    "df"
   ]
  },
  {
   "cell_type": "code",
   "execution_count": null,
   "metadata": {},
   "outputs": [],
   "source": []
  },
  {
   "cell_type": "code",
   "execution_count": 14,
   "metadata": {},
   "outputs": [
    {
     "data": {
      "text/plain": [
       "76.90945969970967"
      ]
     },
     "execution_count": 14,
     "metadata": {},
     "output_type": "execute_result"
    }
   ],
   "source": [
    "get_merit_number(df.muon_energy, df.angular_error_mmsreco)"
   ]
  },
  {
   "cell_type": "code",
   "execution_count": null,
   "metadata": {},
   "outputs": [],
   "source": []
  },
  {
   "cell_type": "code",
   "execution_count": 15,
   "metadata": {},
   "outputs": [],
   "source": [
    "log_bin, merit_number = binned_histogram(xdata = df.muon_energy,\n",
    "                                         error=df.angular_error_mmsreco, \n",
    "                                         bins=11, \n",
    "                                         quant=68,\n",
    "                                         logspace=True)"
   ]
  },
  {
   "cell_type": "code",
   "execution_count": 16,
   "metadata": {},
   "outputs": [
    {
     "data": {
      "text/plain": [
       "10"
      ]
     },
     "execution_count": 16,
     "metadata": {},
     "output_type": "execute_result"
    }
   ],
   "source": [
    "len(log_bin)"
   ]
  },
  {
   "cell_type": "code",
   "execution_count": 17,
   "metadata": {},
   "outputs": [
    {
     "data": {
      "text/plain": [
       "10"
      ]
     },
     "execution_count": 17,
     "metadata": {},
     "output_type": "execute_result"
    }
   ],
   "source": [
    "len(merit_number)"
   ]
  },
  {
   "cell_type": "code",
   "execution_count": null,
   "metadata": {},
   "outputs": [],
   "source": []
  },
  {
   "cell_type": "code",
   "execution_count": 18,
   "metadata": {},
   "outputs": [
    {
     "data": {
      "image/png": "[encoded data removed]",
      "text/plain": [
       "<Figure size 576x432 with 1 Axes>"
      ]
     },
     "metadata": {
      "needs_background": "light"
     },
     "output_type": "display_data"
    }
   ],
   "source": [
    "fig, ax = plt.subplots(figsize=(8,6))\n",
    "\n",
    "ax.plot(log_bin, merit_number, lw=2)\n",
    "\n",
    "for axis in ['top','bottom','left','right']:\n",
    "    ax.spines[axis].set_linewidth(1.8)\n",
    "    ax.spines[axis].set_color('0.0')\n",
    "    ax.spines[axis].set_linewidth(1.8)\n",
    "    ax.spines[axis].set_color('0.0')\n",
    "\n",
    "ax.set_xlabel(\"Muon Energy\", fontsize=18)\n",
    "ax.set_ylabel(\"Merit value\", fontsize=18)\n",
    "    \n",
    "plt.yticks(fontsize=15)\n",
    "plt.xticks(fontsize=15)\n",
    "\n",
    "ax.set_xscale('log')\n",
    "plt.tight_layout()\n",
    "plt.show()"
   ]
  },
  {
   "cell_type": "markdown",
   "metadata": {},
   "source": [
    "## Plotting per track length"
   ]
  },
  {
   "cell_type": "code",
   "execution_count": 19,
   "metadata": {
    "scrolled": false
   },
   "outputs": [
    {
     "data": {
      "image/png": "[encoded data removed]",
      "text/plain": [
       "<Figure size 576x432 with 1 Axes>"
      ]
     },
     "metadata": {
      "needs_background": "light"
     },
     "output_type": "display_data"
    }
   ],
   "source": [
    "fig, ax = plt.subplots(figsize=(8,6))\n",
    "\n",
    "for LDir in [0, 100, 200, 400, 700]:\n",
    "    data = df.loc[(df['dirTrackLengthA_reco'] > LDir)]\n",
    "    muon_energy = data.muon_energy\n",
    "    \n",
    "    angular_error_mmsreco = data.angular_error_mmsreco\n",
    "    \n",
    "    log_bin, merit_number = binned_histogram(xdata = muon_energy,\n",
    "                                         error = angular_error_mmsreco, \n",
    "                                         bins = 11, \n",
    "                                         quant = 68,\n",
    "                                         logspace = True)\n",
    "\n",
    "    ax.plot(log_bin, merit_number, label = f'track length > {LDir} m', lw=2)\n",
    "    \n",
    "    ax.set_xlabel(\"Muon Energy\", fontsize=18)\n",
    "    ax.set_ylabel(\"Merit value\", fontsize=18)\n",
    "    \n",
    "    for axis in ['top','bottom','left','right']:\n",
    "        ax.spines[axis].set_linewidth(1.8)\n",
    "        ax.spines[axis].set_color('0.0')\n",
    "        ax.spines[axis].set_linewidth(1.8)\n",
    "        ax.spines[axis].set_color('0.0')\n",
    "    \n",
    "    ax.set_xscale('log')\n",
    "    ax.legend()\n",
    "plt.show()"
   ]
  },
  {
   "cell_type": "code",
   "execution_count": 20,
   "metadata": {},
   "outputs": [],
   "source": [
    "def get_merit_number(muon_energy, angular_error, radius = 600, nevents=100000):\n",
    "    \"\"\"\n",
    "    muon_energy: as np.array\n",
    "    muon_energy: as np.array\n",
    "    \n",
    "    return: a single float value\n",
    "    \"\"\"\n",
    "    cylinder_area = np.pi*radius**2\n",
    "    val = np.sum(1/(angular_error)**2 * ((muon_energy**(-2)*cylinder_area)/(muon_energy**(-1)*nevents)))\n",
    "    merit_val = val**(1/2)\n",
    "    return merit_val"
   ]
  }
 ],
 "metadata": {
  "kernelspec": {
   "display_name": "Python 3",
   "language": "python",
   "name": "python3"
  },
  "language_info": {
   "codemirror_mode": {
    "name": "ipython",
    "version": 3
   },
   "file_extension": ".py",
   "mimetype": "text/x-python",
   "name": "python",
   "nbconvert_exporter": "python",
   "pygments_lexer": "ipython3",
   "version": "3.8.5"
  }
 },
 "nbformat": 4,
 "nbformat_minor": 4
}
